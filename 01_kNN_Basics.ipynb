{
  "nbformat": 4,
  "nbformat_minor": 0,
  "metadata": {
    "colab": {
      "name": "01-kNN-Basics.ipynb",
      "provenance": [],
      "collapsed_sections": [],
      "authorship_tag": "ABX9TyMpwQtiGcZcBH7ja/diVzyn",
      "include_colab_link": true
    },
    "kernelspec": {
      "name": "python3",
      "display_name": "Python 3"
    },
    "language_info": {
      "name": "python"
    }
  },
  "cells": [
    {
      "cell_type": "markdown",
      "metadata": {
        "id": "view-in-github",
        "colab_type": "text"
      },
      "source": [
        "<a href=\"https://colab.research.google.com/github/wsj20010128/ML_Notes/blob/main/01_kNN_Basics.ipynb\" target=\"_parent\"><img src=\"https://colab.research.google.com/assets/colab-badge.svg\" alt=\"Open In Colab\"/></a>"
      ]
    },
    {
      "cell_type": "markdown",
      "source": [
        "# **KNN**"
      ],
      "metadata": {
        "id": "NCYx4OeBSRYj"
      }
    },
    {
      "cell_type": "code",
      "execution_count": 2,
      "metadata": {
        "id": "yopZ9J6-tVJM"
      },
      "outputs": [],
      "source": [
        "import numpy as np\n",
        "import matplotlib.pyplot as plt\n"
      ]
    },
    {
      "cell_type": "code",
      "source": [
        "# raw_data_X: features\n",
        "raw_data_X = [[3.393533211, 2.331273381],\n",
        "        [3.110073483, 1.781539638],\n",
        "        [1.343808831, 3.368360954],\n",
        "        [3.582294042, 4.679179110],\n",
        "        [2.280362439, 2.866990263],\n",
        "        [7.423436942, 4.696522875],\n",
        "        [5.745051997, 3.533989803],\n",
        "        [9.172168622, 2.511101045],\n",
        "        [7.792783481, 3.424088941],\n",
        "        [7.939820817, 0.791637231]] \n",
        "        \n",
        "# raw_data_y: labels\n",
        "# 0 -> benign\n",
        "# 1 -> malignant\n",
        "raw_data_y = [0, 0, 0, 0, 0, 1, 1, 1, 1, 1]"
      ],
      "metadata": {
        "id": "fr6XD3bCSuNu"
      },
      "execution_count": 3,
      "outputs": []
    },
    {
      "cell_type": "code",
      "source": [
        "X_train = np.array(raw_data_X)\n",
        "y_train = np.array(raw_data_y)\n",
        "X_train, y_train"
      ],
      "metadata": {
        "colab": {
          "base_uri": "https://localhost:8080/"
        },
        "id": "fX6_nDpsUGyq",
        "outputId": "ba8fb1cb-ef9c-4474-9464-574687082054"
      },
      "execution_count": 34,
      "outputs": [
        {
          "output_type": "execute_result",
          "data": {
            "text/plain": [
              "(array([[3.39353321, 2.33127338],\n",
              "        [3.11007348, 1.78153964],\n",
              "        [1.34380883, 3.36836095],\n",
              "        [3.58229404, 4.67917911],\n",
              "        [2.28036244, 2.86699026],\n",
              "        [7.42343694, 4.69652288],\n",
              "        [5.745052  , 3.5339898 ],\n",
              "        [9.17216862, 2.51110105],\n",
              "        [7.79278348, 3.42408894],\n",
              "        [7.93982082, 0.79163723]]), array([0, 0, 0, 0, 0, 1, 1, 1, 1, 1]))"
            ]
          },
          "metadata": {},
          "execution_count": 34
        }
      ]
    },
    {
      "cell_type": "code",
      "source": [
        "#         label==0 first_feature  label==0 second_feature\n",
        "plt.scatter(X_train[y_train==0, 0], X_train[y_train==0, 1], color='g')\n",
        "#         label==1 first_feature  label==1 second_feature\n",
        "plt.scatter(X_train[y_train==1, 0], X_train[y_train==1, 1], color='r')\n",
        "plt.show()"
      ],
      "metadata": {
        "colab": {
          "base_uri": "https://localhost:8080/",
          "height": 265
        },
        "id": "dptYwkGPUjZd",
        "outputId": "b8a9bc81-22e3-4c7b-f03a-d894aaf2b4d3"
      },
      "execution_count": 5,
      "outputs": [
        {
          "output_type": "display_data",
          "data": {
            "image/png": "[encoded data removed]",
            "text/plain": [
              "<Figure size 432x288 with 1 Axes>"
            ]
          },
          "metadata": {
            "needs_background": "light"
          }
        }
      ]
    },
    {
      "cell_type": "code",
      "source": [
        "# a new sample\n",
        "x = np.array([8.093607318, 3.365731514])"
      ],
      "metadata": {
        "id": "yROI_ZWSV86Z"
      },
      "execution_count": 6,
      "outputs": []
    },
    {
      "cell_type": "code",
      "source": [
        "plt.scatter(X_train[y_train==0, 0], X_train[y_train==0, 1], color='g')\n",
        "plt.scatter(X_train[y_train==1, 0], X_train[y_train==1, 1], color='r')\n",
        "plt.scatter(x[0], x[1], color='b')\n",
        "plt.show()"
      ],
      "metadata": {
        "colab": {
          "base_uri": "https://localhost:8080/",
          "height": 265
        },
        "id": "D6NEqWjRV9CW",
        "outputId": "61f3f1ca-2a58-48e7-8e72-8b8d2f39d9f0"
      },
      "execution_count": 7,
      "outputs": [
        {
          "output_type": "display_data",
          "data": {
            "image/png": "[encoded data removed]",
            "text/plain": [
              "<Figure size 432x288 with 1 Axes>"
            ]
          },
          "metadata": {
            "needs_background": "light"
          }
        }
      ]
    },
    {
      "cell_type": "markdown",
      "source": [
        "## kNN Process"
      ],
      "metadata": {
        "id": "uiHZkI77WaV1"
      }
    },
    {
      "cell_type": "markdown",
      "source": [
        "### Euclidean Distance\n",
        "![image.png](data:image/png;base64,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)"
      ],
      "metadata": {
        "id": "twfo4Hi9W33_"
      }
    },
    {
      "cell_type": "code",
      "source": [
        "from math import sqrt\n",
        "# distances = []\n",
        "# for x_train in X_train:\n",
        "#   d = sqrt(np.sum((x_train - x) ** 2))\n",
        "#   distances.append(d)\n",
        "\n",
        "distances = [sqrt(np.sum((x_train - x) ** 2)) for x_train in X_train]\n",
        "distances"
      ],
      "metadata": {
        "colab": {
          "base_uri": "https://localhost:8080/"
        },
        "id": "IIbej6bJ3-OP",
        "outputId": "60db9ce0-cf34-47fa-84ec-648fc0d9b77c"
      },
      "execution_count": 22,
      "outputs": [
        {
          "output_type": "execute_result",
          "data": {
            "text/plain": [
              "[4.812566907609877,\n",
              " 5.229270827235305,\n",
              " 6.749798999160064,\n",
              " 4.6986266144110695,\n",
              " 5.83460014556857,\n",
              " 1.4900114024329525,\n",
              " 2.354574897431513,\n",
              " 1.3761132675144652,\n",
              " 0.3064319992975,\n",
              " 2.5786840957478887]"
            ]
          },
          "metadata": {},
          "execution_count": 22
        }
      ]
    },
    {
      "cell_type": "code",
      "source": [
        "#     index of the nearest points\n",
        "nearest = np.argsort(distances)\n",
        "nearest"
      ],
      "metadata": {
        "colab": {
          "base_uri": "https://localhost:8080/"
        },
        "id": "qZLy8qNr4uE7",
        "outputId": "91fe6f08-044a-42d8-b0d0-ace7becb8183"
      },
      "execution_count": 21,
      "outputs": [
        {
          "output_type": "execute_result",
          "data": {
            "text/plain": [
              "array([8, 7, 5, 6, 9, 3, 0, 1, 4, 2])"
            ]
          },
          "metadata": {},
          "execution_count": 21
        }
      ]
    },
    {
      "cell_type": "code",
      "source": [
        "k = 6"
      ],
      "metadata": {
        "id": "e80YU9AV5S4i"
      },
      "execution_count": 14,
      "outputs": []
    },
    {
      "cell_type": "code",
      "source": [
        "# first k elements in nearest\n",
        "topK_y = [y_train[i] for i in nearest[:k]]\n",
        "topK_y"
      ],
      "metadata": {
        "colab": {
          "base_uri": "https://localhost:8080/"
        },
        "id": "O75gmBjk5rBt",
        "outputId": "578b67b0-c3e1-4c39-a35d-aa5685965f33"
      },
      "execution_count": 20,
      "outputs": [
        {
          "output_type": "execute_result",
          "data": {
            "text/plain": [
              "[1, 1, 1, 1, 1, 0]"
            ]
          },
          "metadata": {},
          "execution_count": 20
        }
      ]
    },
    {
      "cell_type": "code",
      "source": [
        "from collections import Counter\n",
        "\n",
        "# count the number of the labels\n",
        "votes = Counter(topK_y)\n",
        "votes"
      ],
      "metadata": {
        "colab": {
          "base_uri": "https://localhost:8080/"
        },
        "id": "kUeG66lT5_-f",
        "outputId": "0991c127-058f-4b68-e6ad-ceac139b0768"
      },
      "execution_count": 23,
      "outputs": [
        {
          "output_type": "execute_result",
          "data": {
            "text/plain": [
              "Counter({0: 1, 1: 5})"
            ]
          },
          "metadata": {},
          "execution_count": 23
        }
      ]
    },
    {
      "cell_type": "code",
      "source": [
        "predict_y = votes.most_common(1)[0][0]\n",
        "predict_y"
      ],
      "metadata": {
        "colab": {
          "base_uri": "https://localhost:8080/"
        },
        "id": "V48GrjRt6vNn",
        "outputId": "9f1d9e09-15d9-4569-b7a2-de7c9872a53a"
      },
      "execution_count": 27,
      "outputs": [
        {
          "output_type": "execute_result",
          "data": {
            "text/plain": [
              "1"
            ]
          },
          "metadata": {},
          "execution_count": 27
        }
      ]
    }
  ]
}