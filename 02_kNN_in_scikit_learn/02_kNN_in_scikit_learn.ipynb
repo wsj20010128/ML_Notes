{
  "nbformat": 4,
  "nbformat_minor": 0,
  "metadata": {
    "colab": {
      "name": "02-kNN-in-scikit-learn.ipynb",
      "provenance": [],
      "authorship_tag": "ABX9TyOeghng0e8EPxj2XhD9139P",
      "include_colab_link": true
    },
    "kernelspec": {
      "name": "python3",
      "display_name": "Python 3"
    },
    "language_info": {
      "name": "python"
    }
  },
  "cells": [
    {
      "cell_type": "markdown",
      "metadata": {
        "id": "view-in-github",
        "colab_type": "text"
      },
      "source": [
        "<a href=\"https://colab.research.google.com/github/wsj20010128/ML_Notes/blob/main/02_kNN_in_scikit_learn/02_kNN_in_scikit_learn.ipynb\" target=\"_parent\"><img src=\"https://colab.research.google.com/assets/colab-badge.svg\" alt=\"Open In Colab\"/></a>"
      ]
    },
    {
      "cell_type": "code",
      "execution_count": 1,
      "metadata": {
        "id": "cpJCziINqsg-"
      },
      "outputs": [],
      "source": [
        "import numpy as np\n",
        "import matplotlib.pyplot as plt\n",
        "\n",
        "# raw_data_X: features\n",
        "raw_data_X = [[3.393533211, 2.331273381],\n",
        "        [3.110073483, 1.781539638],\n",
        "        [1.343808831, 3.368360954],\n",
        "        [3.582294042, 4.679179110],\n",
        "        [2.280362439, 2.866990263],\n",
        "        [7.423436942, 4.696522875],\n",
        "        [5.745051997, 3.533989803],\n",
        "        [9.172168622, 2.511101045],\n",
        "        [7.792783481, 3.424088941],\n",
        "        [7.939820817, 0.791637231]] \n",
        "        \n",
        "# raw_data_y: labels\n",
        "# 0 -> benign\n",
        "# 1 -> malignant\n",
        "raw_data_y = [0, 0, 0, 0, 0, 1, 1, 1, 1, 1]\n",
        "\n",
        "X_train = np.array(raw_data_X)\n",
        "y_train = np.array(raw_data_y)\n",
        "\n",
        "# a new sample\n",
        "x = np.array([8.093607318, 3.365731514])"
      ]
    },
    {
      "cell_type": "code",
      "source": [
        "%run kNN_function/kNN.py"
      ],
      "metadata": {
        "id": "XczrAZ_wuq08"
      },
      "execution_count": 4,
      "outputs": []
    },
    {
      "cell_type": "code",
      "source": [
        "predict_y = kNN_classify(6, X_train, y_train, x)\n",
        "predict_y"
      ],
      "metadata": {
        "colab": {
          "base_uri": "https://localhost:8080/"
        },
        "id": "3rBuABKYuvbd",
        "outputId": "11eb604b-b12e-44d4-8406-671d0c31200b"
      },
      "execution_count": 6,
      "outputs": [
        {
          "output_type": "execute_result",
          "data": {
            "text/plain": [
              "1"
            ]
          },
          "metadata": {},
          "execution_count": 6
        }
      ]
    },
    {
      "cell_type": "markdown",
      "source": [
        "## kNN in scikit-learn"
      ],
      "metadata": {
        "id": "5bDSaVqtwFc-"
      }
    },
    {
      "cell_type": "code",
      "source": [
        "from sklearn.neighbors import KNeighborsClassifier"
      ],
      "metadata": {
        "id": "1yUbbTYGwLy6"
      },
      "execution_count": 7,
      "outputs": []
    },
    {
      "cell_type": "code",
      "source": [
        "kNN_classifier = KNeighborsClassifier(n_neighbors=6)"
      ],
      "metadata": {
        "id": "tEXFCnFJwWu6"
      },
      "execution_count": 13,
      "outputs": []
    },
    {
      "cell_type": "code",
      "source": [
        "kNN_classifier.fit(X_train, y_train)"
      ],
      "metadata": {
        "colab": {
          "base_uri": "https://localhost:8080/"
        },
        "id": "Ihp3vB2VxPtB",
        "outputId": "628e2f41-48ca-40a9-c677-7ab0053a809d"
      },
      "execution_count": 14,
      "outputs": [
        {
          "output_type": "execute_result",
          "data": {
            "text/plain": [
              "KNeighborsClassifier(n_neighbors=6)"
            ]
          },
          "metadata": {},
          "execution_count": 14
        }
      ]
    },
    {
      "cell_type": "code",
      "source": [
        "X_predict = x.reshape(1, -1)\n",
        "X_predict"
      ],
      "metadata": {
        "colab": {
          "base_uri": "https://localhost:8080/"
        },
        "id": "MfATlZEaxZjs",
        "outputId": "64dd22e3-bedd-4f78-ea5d-7952fcc83b87"
      },
      "execution_count": 17,
      "outputs": [
        {
          "output_type": "execute_result",
          "data": {
            "text/plain": [
              "array([[8.09360732, 3.36573151]])"
            ]
          },
          "metadata": {},
          "execution_count": 17
        }
      ]
    },
    {
      "cell_type": "code",
      "source": [
        "y_predict = kNN_classifier.predict(X_predict)\n",
        "y_predict"
      ],
      "metadata": {
        "colab": {
          "base_uri": "https://localhost:8080/"
        },
        "id": "U7fhUmFfyVmW",
        "outputId": "d17dba2a-3382-46dc-a09e-069f5de7964f"
      },
      "execution_count": 19,
      "outputs": [
        {
          "output_type": "execute_result",
          "data": {
            "text/plain": [
              "array([1])"
            ]
          },
          "metadata": {},
          "execution_count": 19
        }
      ]
    },
    {
      "cell_type": "code",
      "source": [
        "y_predict[0]"
      ],
      "metadata": {
        "colab": {
          "base_uri": "https://localhost:8080/"
        },
        "id": "05PDHFecylNZ",
        "outputId": "68bd14e9-d803-4c23-aca4-582385c3f9a0"
      },
      "execution_count": 20,
      "outputs": [
        {
          "output_type": "execute_result",
          "data": {
            "text/plain": [
              "1"
            ]
          },
          "metadata": {},
          "execution_count": 20
        }
      ]
    },
    {
      "cell_type": "markdown",
      "source": [
        "## Rearrange the codes of kNN"
      ],
      "metadata": {
        "id": "hpPLboQT4Fn4"
      }
    },
    {
      "cell_type": "code",
      "source": [
        "%run kNN/kNN.py"
      ],
      "metadata": {
        "id": "G7u4GelF4L7B"
      },
      "execution_count": 26,
      "outputs": []
    },
    {
      "cell_type": "code",
      "source": [
        "knn_clf = KNNClassifier(k=6)"
      ],
      "metadata": {
        "id": "IDige9Cu4TN4"
      },
      "execution_count": 27,
      "outputs": []
    },
    {
      "cell_type": "code",
      "source": [
        "knn_clf.fit(X_train, y_train)"
      ],
      "metadata": {
        "colab": {
          "base_uri": "https://localhost:8080/"
        },
        "id": "auD4yfnm4gpb",
        "outputId": "d66b44c5-4308-46a4-e94f-d576af71f275"
      },
      "execution_count": 28,
      "outputs": [
        {
          "output_type": "execute_result",
          "data": {
            "text/plain": [
              "KNN(k=6)"
            ]
          },
          "metadata": {},
          "execution_count": 28
        }
      ]
    },
    {
      "cell_type": "code",
      "source": [
        "y_predict = knn_clf.predict(X_predict)\n",
        "y_predict"
      ],
      "metadata": {
        "colab": {
          "base_uri": "https://localhost:8080/"
        },
        "id": "w4HRPwU04ptI",
        "outputId": "6be2826c-81e2-4b39-dcb6-c096794fb7c8"
      },
      "execution_count": 30,
      "outputs": [
        {
          "output_type": "execute_result",
          "data": {
            "text/plain": [
              "array([1])"
            ]
          },
          "metadata": {},
          "execution_count": 30
        }
      ]
    },
    {
      "cell_type": "code",
      "source": [
        "y_predict[0]"
      ],
      "metadata": {
        "colab": {
          "base_uri": "https://localhost:8080/"
        },
        "id": "Dea22y5o5QpB",
        "outputId": "29ce89b6-f23d-4fe3-b43b-ac8a450e4a36"
      },
      "execution_count": 31,
      "outputs": [
        {
          "output_type": "execute_result",
          "data": {
            "text/plain": [
              "1"
            ]
          },
          "metadata": {},
          "execution_count": 31
        }
      ]
    }
  ]
}