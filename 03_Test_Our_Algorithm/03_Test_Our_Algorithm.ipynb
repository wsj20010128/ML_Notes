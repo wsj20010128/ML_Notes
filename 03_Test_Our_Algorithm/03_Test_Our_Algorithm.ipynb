{
  "nbformat": 4,
  "nbformat_minor": 0,
  "metadata": {
    "colab": {
      "name": "03-Test-Our-Algorithm.ipynb",
      "provenance": [],
      "collapsed_sections": [],
      "authorship_tag": "ABX9TyOX9nGo8TEPfXyW7mBFQeJG",
      "include_colab_link": true
    },
    "kernelspec": {
      "name": "python3",
      "display_name": "Python 3"
    },
    "language_info": {
      "name": "python"
    }
  },
  "cells": [
    {
      "cell_type": "markdown",
      "metadata": {
        "id": "view-in-github",
        "colab_type": "text"
      },
      "source": [
        "<a href=\"https://colab.research.google.com/github/wsj20010128/ML_Notes/blob/main/03_Test_Our_Algorithm/03_Test_Our_Algorithm.ipynb\" target=\"_parent\"><img src=\"https://colab.research.google.com/assets/colab-badge.svg\" alt=\"Open In Colab\"/></a>"
      ]
    },
    {
      "cell_type": "markdown",
      "source": [
        "# Test our algorithm"
      ],
      "metadata": {
        "id": "5HmvJ5ajGkKT"
      }
    },
    {
      "cell_type": "code",
      "execution_count": 1,
      "metadata": {
        "id": "1didh2GaGYZW"
      },
      "outputs": [],
      "source": [
        "import numpy as np\n",
        "import matplotlib.pyplot as plt\n",
        "from sklearn import datasets"
      ]
    },
    {
      "cell_type": "code",
      "source": [
        "iris = datasets.load_iris()"
      ],
      "metadata": {
        "id": "ySCgeoZJGpWL"
      },
      "execution_count": 2,
      "outputs": []
    },
    {
      "cell_type": "code",
      "source": [
        "X = iris.data\n",
        "y = iris.target"
      ],
      "metadata": {
        "id": "k9dmW7ftGtuV"
      },
      "execution_count": 3,
      "outputs": []
    },
    {
      "cell_type": "markdown",
      "source": [
        "## train_test_split"
      ],
      "metadata": {
        "id": "mMMYS_HCG8mC"
      }
    },
    {
      "cell_type": "code",
      "source": [
        "shuffle_indexes = np.random.permutation(len(X))\n",
        "shuffle_indexes"
      ],
      "metadata": {
        "colab": {
          "base_uri": "https://localhost:8080/"
        },
        "id": "14dq0PpSHAJj",
        "outputId": "59d2d310-565c-4787-9cb1-7b380c268e6f"
      },
      "execution_count": 4,
      "outputs": [
        {
          "output_type": "execute_result",
          "data": {
            "text/plain": [
              "array([ 18,  23,   2,  79, 109,  95,   9,  88,  97,   5, 125, 101,  75,\n",
              "        17,  46,   1, 113,  58,  61,  34,  12,   0,  25, 131,  65, 142,\n",
              "        67,  30,  91,  45,  44,  85,  28,  90,  87,  50,  10,  72,  35,\n",
              "       145,  70, 114,  82,  16, 120, 135,  14, 147, 123,  93, 133,  99,\n",
              "        98, 119,  92, 139,  43,  33, 148, 130,  37,   6, 143,  19,  69,\n",
              "        94, 141,  21,  74,  66, 126,   8, 144,  13, 104, 146,  48,  29,\n",
              "       149, 102,  52,  73,  86,  56,   3, 117, 134, 136,  26,  24, 103,\n",
              "        55, 129, 124,  27, 108,  60,  71, 116, 106, 112, 137, 127,  36,\n",
              "        32,  77,  11,  22, 107,  54,  78, 100,  59,  51, 121,  20,  76,\n",
              "       128,  89,  62,  84,  41,  49, 132,  53,  39, 118,  47,  81,  42,\n",
              "         7,  64,  31, 122,  38,  80,  83,  63, 105,  96,  40,  57,  68,\n",
              "       110, 140, 138, 111, 115,   4,  15])"
            ]
          },
          "metadata": {},
          "execution_count": 4
        }
      ]
    },
    {
      "cell_type": "code",
      "source": [
        "test_ratio = 0.2\n",
        "test_size = int(len(X) * test_ratio)\n",
        "test_size"
      ],
      "metadata": {
        "colab": {
          "base_uri": "https://localhost:8080/"
        },
        "id": "aFn6cD62Hvg1",
        "outputId": "8b0fd6bd-ca3a-4893-f8ec-5d661970f61b"
      },
      "execution_count": 5,
      "outputs": [
        {
          "output_type": "execute_result",
          "data": {
            "text/plain": [
              "30"
            ]
          },
          "metadata": {},
          "execution_count": 5
        }
      ]
    },
    {
      "cell_type": "code",
      "source": [
        "test_indexes = shuffle_indexes[:test_size]\n",
        "train_indexes = shuffle_indexes[test_size:]"
      ],
      "metadata": {
        "id": "0owblKWfIMBM"
      },
      "execution_count": 6,
      "outputs": []
    },
    {
      "cell_type": "code",
      "source": [
        "X_train = X[train_indexes]\n",
        "y_train = y[train_indexes]\n",
        "\n",
        "X_test = X[test_indexes]\n",
        "y_test = y[test_indexes]"
      ],
      "metadata": {
        "id": "jvyaMO-hIZ-z"
      },
      "execution_count": 7,
      "outputs": []
    },
    {
      "cell_type": "code",
      "source": [
        "print(X_train.shape)\n",
        "print(y_train.shape)"
      ],
      "metadata": {
        "colab": {
          "base_uri": "https://localhost:8080/"
        },
        "id": "vER0wQcdIyGQ",
        "outputId": "efd73b98-8fd3-499c-cdf8-68c9fb667353"
      },
      "execution_count": 8,
      "outputs": [
        {
          "output_type": "stream",
          "name": "stdout",
          "text": [
            "(120, 4)\n",
            "(120,)\n"
          ]
        }
      ]
    },
    {
      "cell_type": "code",
      "source": [
        "print(X_test.shape)\n",
        "print(y_test.shape)"
      ],
      "metadata": {
        "colab": {
          "base_uri": "https://localhost:8080/"
        },
        "id": "1q6EzVbNI3Ts",
        "outputId": "5887f27a-ee4a-480b-db0f-4b6bbe68854f"
      },
      "execution_count": 9,
      "outputs": [
        {
          "output_type": "stream",
          "name": "stdout",
          "text": [
            "(30, 4)\n",
            "(30,)\n"
          ]
        }
      ]
    },
    {
      "cell_type": "markdown",
      "source": [
        "## Test our algorithm"
      ],
      "metadata": {
        "id": "-hm26Ym_K8MG"
      }
    },
    {
      "cell_type": "code",
      "source": [
        "from playML.model_selection import train_test_split"
      ],
      "metadata": {
        "id": "wsXQ9P6oNiBc"
      },
      "execution_count": 10,
      "outputs": []
    },
    {
      "cell_type": "code",
      "source": [
        "X_train, X_test, y_train, y_test = train_test_split(X, y)"
      ],
      "metadata": {
        "id": "7oECzEiYNmO9"
      },
      "execution_count": 11,
      "outputs": []
    },
    {
      "cell_type": "code",
      "source": [
        "print(X_train.shape)\n",
        "print(y_train.shape)"
      ],
      "metadata": {
        "colab": {
          "base_uri": "https://localhost:8080/"
        },
        "id": "jwBaAZZDNvyY",
        "outputId": "e200fedc-d244-4fed-9f12-4ea48165bb8f"
      },
      "execution_count": 12,
      "outputs": [
        {
          "output_type": "stream",
          "name": "stdout",
          "text": [
            "(120, 4)\n",
            "(120,)\n"
          ]
        }
      ]
    },
    {
      "cell_type": "code",
      "source": [
        "print(X_test.shape)\n",
        "print(y_test.shape)"
      ],
      "metadata": {
        "colab": {
          "base_uri": "https://localhost:8080/"
        },
        "id": "MPyZS3f1NwZm",
        "outputId": "29d4b53b-6d82-4d63-d531-0e480a270c66"
      },
      "execution_count": 13,
      "outputs": [
        {
          "output_type": "stream",
          "name": "stdout",
          "text": [
            "(30, 4)\n",
            "(30,)\n"
          ]
        }
      ]
    },
    {
      "cell_type": "code",
      "source": [
        "from playML.kNN import KNNClassifier"
      ],
      "metadata": {
        "id": "nAvQXX6POSkB"
      },
      "execution_count": 14,
      "outputs": []
    },
    {
      "cell_type": "code",
      "source": [
        "my_knn_clf = KNNClassifier(k=3)"
      ],
      "metadata": {
        "id": "Xqh0B5USOh5a"
      },
      "execution_count": 15,
      "outputs": []
    },
    {
      "cell_type": "code",
      "source": [
        "my_knn_clf.fit(X_train, y_train)"
      ],
      "metadata": {
        "colab": {
          "base_uri": "https://localhost:8080/"
        },
        "id": "MWn4GP3SOps-",
        "outputId": "1fadcd8c-b2b7-4480-f96c-6e14b297d4f0"
      },
      "execution_count": 16,
      "outputs": [
        {
          "output_type": "execute_result",
          "data": {
            "text/plain": [
              "KNN(k=3)"
            ]
          },
          "metadata": {},
          "execution_count": 16
        }
      ]
    },
    {
      "cell_type": "code",
      "source": [
        "y_predict = my_knn_clf.predict(X_test)"
      ],
      "metadata": {
        "id": "D4srjEyIOtvO"
      },
      "execution_count": 17,
      "outputs": []
    },
    {
      "cell_type": "code",
      "source": [
        "sum(y_predict==y_test)/len(y_test)"
      ],
      "metadata": {
        "colab": {
          "base_uri": "https://localhost:8080/"
        },
        "id": "k6uxHlAfPJbT",
        "outputId": "14c2e5be-2741-412c-c1db-998e6b3382b9"
      },
      "execution_count": 18,
      "outputs": [
        {
          "output_type": "execute_result",
          "data": {
            "text/plain": [
              "0.8"
            ]
          },
          "metadata": {},
          "execution_count": 18
        }
      ]
    },
    {
      "cell_type": "markdown",
      "source": [
        "## train_test_split in scikit-learn"
      ],
      "metadata": {
        "id": "fEJXZfnSP0kF"
      }
    },
    {
      "cell_type": "code",
      "source": [
        "from sklearn.model_selection import train_test_split"
      ],
      "metadata": {
        "id": "DBnxzkyuP4FY"
      },
      "execution_count": 20,
      "outputs": []
    },
    {
      "cell_type": "code",
      "source": [
        "#                                test_ratio=0.2 random_seed=666\n",
        "X_train, X_test, y_train, y_test = train_test_split(X, y, test_size=0.2, random_state=666)"
      ],
      "metadata": {
        "id": "ajbjKhzTP9zA"
      },
      "execution_count": 24,
      "outputs": []
    },
    {
      "cell_type": "code",
      "source": [
        "print(X_train.shape)\n",
        "print(y_train.shape)"
      ],
      "metadata": {
        "colab": {
          "base_uri": "https://localhost:8080/"
        },
        "id": "PM6ttVVdQGIw",
        "outputId": "71cdb3d2-542c-4acc-e809-8cd207691598"
      },
      "execution_count": 25,
      "outputs": [
        {
          "output_type": "stream",
          "name": "stdout",
          "text": [
            "(120, 4)\n",
            "(120,)\n"
          ]
        }
      ]
    },
    {
      "cell_type": "code",
      "source": [
        "print(X_test.shape)\n",
        "print(y_test.shape)"
      ],
      "metadata": {
        "colab": {
          "base_uri": "https://localhost:8080/"
        },
        "id": "By1810ENQI58",
        "outputId": "6f9f691b-3de8-417f-e928-4344dc3efc93"
      },
      "execution_count": 26,
      "outputs": [
        {
          "output_type": "stream",
          "name": "stdout",
          "text": [
            "(30, 4)\n",
            "(30,)\n"
          ]
        }
      ]
    },
    {
      "cell_type": "code",
      "source": [
        "from sklearn.neighbors import KNeighborsClassifier"
      ],
      "metadata": {
        "id": "fiMsk2RAQzq1"
      },
      "execution_count": 31,
      "outputs": []
    },
    {
      "cell_type": "code",
      "source": [
        "kNN_classifier = KNeighborsClassifier(n_neighbors=3)"
      ],
      "metadata": {
        "id": "25fsfnHTRB5L"
      },
      "execution_count": 33,
      "outputs": []
    },
    {
      "cell_type": "code",
      "source": [
        "kNN_classifier.fit(X_train, y_train)"
      ],
      "metadata": {
        "colab": {
          "base_uri": "https://localhost:8080/"
        },
        "id": "nEivrvUeRT8V",
        "outputId": "437d74f2-f2fc-4605-c84e-ad08f5b080a9"
      },
      "execution_count": 34,
      "outputs": [
        {
          "output_type": "execute_result",
          "data": {
            "text/plain": [
              "KNeighborsClassifier(n_neighbors=3)"
            ]
          },
          "metadata": {},
          "execution_count": 34
        }
      ]
    },
    {
      "cell_type": "code",
      "source": [
        "predict_y = kNN_classifier.predict(X_test)"
      ],
      "metadata": {
        "id": "Qc9Hw1fpRXaC"
      },
      "execution_count": 39,
      "outputs": []
    },
    {
      "cell_type": "code",
      "source": [
        "sum(predict_y==y_test) / len(y_test)"
      ],
      "metadata": {
        "colab": {
          "base_uri": "https://localhost:8080/"
        },
        "id": "RsjfhG3KRdvN",
        "outputId": "0da4487a-595b-4c9a-b436-b3531557ea6f"
      },
      "execution_count": 40,
      "outputs": [
        {
          "output_type": "execute_result",
          "data": {
            "text/plain": [
              "1.0"
            ]
          },
          "metadata": {},
          "execution_count": 40
        }
      ]
    }
  ]
}