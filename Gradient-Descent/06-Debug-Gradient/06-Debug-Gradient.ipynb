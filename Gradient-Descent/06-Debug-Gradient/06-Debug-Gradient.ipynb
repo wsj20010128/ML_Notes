{
  "nbformat": 4,
  "nbformat_minor": 0,
  "metadata": {
    "colab": {
      "name": "06-Debug-Gradient.ipynb",
      "provenance": [],
      "authorship_tag": "ABX9TyN76DAI0la39i19dx0stC9x",
      "include_colab_link": true
    },
    "kernelspec": {
      "name": "python3",
      "display_name": "Python 3"
    },
    "language_info": {
      "name": "python"
    }
  },
  "cells": [
    {
      "cell_type": "markdown",
      "metadata": {
        "id": "view-in-github",
        "colab_type": "text"
      },
      "source": [
        "<a href=\"https://colab.research.google.com/github/wsj20010128/ML_Notes/blob/main/Gradient-Descent/06-Debug-Gradient/06-Debug-Gradient.ipynb\" target=\"_parent\"><img src=\"https://colab.research.google.com/assets/colab-badge.svg\" alt=\"Open In Colab\"/></a>"
      ]
    },
    {
      "cell_type": "markdown",
      "source": [
        "# Debug Gradient"
      ],
      "metadata": {
        "id": "aXAKjl0dlB_Z"
      }
    },
    {
      "cell_type": "code",
      "source": [
        "import numpy as np\n",
        "import matplotlib.pyplot as plt"
      ],
      "metadata": {
        "id": "qYWYVYmLlErK"
      },
      "execution_count": 1,
      "outputs": []
    },
    {
      "cell_type": "code",
      "source": [
        "np.random.seed(666)\n",
        "X =np.random.random(size=(1000, 10))"
      ],
      "metadata": {
        "id": "aps1FwTylIuF"
      },
      "execution_count": 2,
      "outputs": []
    },
    {
      "cell_type": "code",
      "source": [
        "true_theta = np.arange(1, 12, dtype=float)"
      ],
      "metadata": {
        "id": "CZyl5OC9lQX8"
      },
      "execution_count": 3,
      "outputs": []
    },
    {
      "cell_type": "code",
      "source": [
        "X_b = np.hstack([np.ones((len(X), 1)), X])\n",
        "y = X_b.dot(true_theta) + np.random.normal(size=1000)"
      ],
      "metadata": {
        "id": "_pxifDrDlbzf"
      },
      "execution_count": 5,
      "outputs": []
    },
    {
      "cell_type": "code",
      "source": [
        "X.shape"
      ],
      "metadata": {
        "colab": {
          "base_uri": "https://localhost:8080/"
        },
        "id": "vM_R263dlmku",
        "outputId": "e21b2341-6bbe-4a51-f408-e2d25f03323e"
      },
      "execution_count": 6,
      "outputs": [
        {
          "output_type": "execute_result",
          "data": {
            "text/plain": [
              "(1000, 10)"
            ]
          },
          "metadata": {},
          "execution_count": 6
        }
      ]
    },
    {
      "cell_type": "code",
      "source": [
        "y.shape"
      ],
      "metadata": {
        "colab": {
          "base_uri": "https://localhost:8080/"
        },
        "id": "iLmM-LC-lxze",
        "outputId": "3cd9ae81-8ff6-4327-ead9-ce8be557aab8"
      },
      "execution_count": 7,
      "outputs": [
        {
          "output_type": "execute_result",
          "data": {
            "text/plain": [
              "(1000,)"
            ]
          },
          "metadata": {},
          "execution_count": 7
        }
      ]
    },
    {
      "cell_type": "code",
      "source": [
        "true_theta"
      ],
      "metadata": {
        "colab": {
          "base_uri": "https://localhost:8080/"
        },
        "id": "usA8WYX5ly1P",
        "outputId": "48481075-5c23-4803-d6fd-f7b4d0a7af7e"
      },
      "execution_count": 8,
      "outputs": [
        {
          "output_type": "execute_result",
          "data": {
            "text/plain": [
              "array([ 1.,  2.,  3.,  4.,  5.,  6.,  7.,  8.,  9., 10., 11.])"
            ]
          },
          "metadata": {},
          "execution_count": 8
        }
      ]
    },
    {
      "cell_type": "code",
      "source": [
        "def J(theta, X_b, y):\n",
        "  try:\n",
        "      return np.sum((y - X_b.dot(theta))**2) / len(X_b)\n",
        "  except:\n",
        "      return float('inf')"
      ],
      "metadata": {
        "id": "ZeoQeNpXl1PT"
      },
      "execution_count": 9,
      "outputs": []
    },
    {
      "cell_type": "code",
      "source": [
        "def dJ_math(theta, X_b, y):\n",
        "  return X_b.T.dot(X_b.dot(theta) - y) * 2. / len(y)"
      ],
      "metadata": {
        "id": "E9dWRTeul58P"
      },
      "execution_count": 10,
      "outputs": []
    },
    {
      "cell_type": "code",
      "source": [
        "def dJ_debug(theta, X_b, y, epsilon=0.01):\n",
        "  res = np.empty(len(theta))\n",
        "  for i in range(len(theta)):\n",
        "    theta_1 = theta.copy()\n",
        "    theta_1[i] += epsilon\n",
        "    theta_2 = theta.copy()\n",
        "    theta_2[i] -= epsilon\n",
        "    res[i] = (J(theta_1, X_b, y) - J(theta_2, X_b, y)) / (2 * epsilon)\n",
        "  return res"
      ],
      "metadata": {
        "id": "8IXOaPvnl9pl"
      },
      "execution_count": 12,
      "outputs": []
    },
    {
      "cell_type": "code",
      "source": [
        "def gradient_descent(dJ, X_b, y, initial_theta, eta, n_iters = 1e4, epsilon=1e-8):\n",
        "    \n",
        "  theta = initial_theta\n",
        "  cur_iter = 0\n",
        "\n",
        "  while cur_iter < n_iters:\n",
        "      gradient = dJ(theta, X_b, y)\n",
        "      last_theta = theta\n",
        "      theta = theta - eta * gradient\n",
        "      if(abs(J(theta, X_b, y) - J(last_theta, X_b, y)) < epsilon):\n",
        "          break\n",
        "            \n",
        "      cur_iter += 1\n",
        "\n",
        "  return theta"
      ],
      "metadata": {
        "id": "nyXwITWWnFPe"
      },
      "execution_count": 13,
      "outputs": []
    },
    {
      "cell_type": "code",
      "source": [
        "X_b = np.hstack([np.ones((len(X), 1)), X])\n",
        "initial_theta = np.zeros(X_b.shape[1])\n",
        "eta = 0.01\n",
        "\n",
        "%time theta = gradient_descent(dJ_debug, X_b, y, initial_theta, eta)\n",
        "theta"
      ],
      "metadata": {
        "colab": {
          "base_uri": "https://localhost:8080/"
        },
        "id": "1Ov_b8WQnOLq",
        "outputId": "a3f1b39c-0ab8-4df7-a71f-1cdab3a4aa62"
      },
      "execution_count": 14,
      "outputs": [
        {
          "output_type": "stream",
          "name": "stdout",
          "text": [
            "CPU times: user 6.44 s, sys: 4.54 s, total: 11 s\n",
            "Wall time: 5.62 s\n"
          ]
        },
        {
          "output_type": "execute_result",
          "data": {
            "text/plain": [
              "array([ 1.1251597 ,  2.05312521,  2.91522497,  4.11895968,  5.05002117,\n",
              "        5.90494046,  6.97383745,  8.00088367,  8.86213468,  9.98608331,\n",
              "       10.90529198])"
            ]
          },
          "metadata": {},
          "execution_count": 14
        }
      ]
    },
    {
      "cell_type": "code",
      "source": [
        "%time theta = gradient_descent(dJ_math, X_b, y, initial_theta, eta)\n",
        "theta"
      ],
      "metadata": {
        "colab": {
          "base_uri": "https://localhost:8080/"
        },
        "id": "AFTzvJkMnYSr",
        "outputId": "bd7eaa2f-0f76-4cb8-a894-9a2c73afd681"
      },
      "execution_count": 15,
      "outputs": [
        {
          "output_type": "stream",
          "name": "stdout",
          "text": [
            "CPU times: user 841 ms, sys: 502 ms, total: 1.34 s\n",
            "Wall time: 703 ms\n"
          ]
        },
        {
          "output_type": "execute_result",
          "data": {
            "text/plain": [
              "array([ 1.1251597 ,  2.05312521,  2.91522497,  4.11895968,  5.05002117,\n",
              "        5.90494046,  6.97383745,  8.00088367,  8.86213468,  9.98608331,\n",
              "       10.90529198])"
            ]
          },
          "metadata": {},
          "execution_count": 15
        }
      ]
    }
  ]
}