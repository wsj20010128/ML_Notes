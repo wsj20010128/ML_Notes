{
  "nbformat": 4,
  "nbformat_minor": 0,
  "metadata": {
    "colab": {
      "name": "04-Stochastic-Gradient-Descent.ipynb",
      "provenance": [],
      "collapsed_sections": [],
      "authorship_tag": "ABX9TyPfUdg6OcPIFnyRYjZis0Jx",
      "include_colab_link": true
    },
    "kernelspec": {
      "name": "python3",
      "display_name": "Python 3"
    },
    "language_info": {
      "name": "python"
    }
  },
  "cells": [
    {
      "cell_type": "markdown",
      "metadata": {
        "id": "view-in-github",
        "colab_type": "text"
      },
      "source": [
        "<a href=\"https://colab.research.google.com/github/wsj20010128/ML_Notes/blob/main/Gradient-Descent/04-Stochastic-Gradient-Descent/04-Stochastic-Gradient-Descent.ipynb\" target=\"_parent\"><img src=\"https://colab.research.google.com/assets/colab-badge.svg\" alt=\"Open In Colab\"/></a>"
      ]
    },
    {
      "cell_type": "markdown",
      "source": [
        "# Stochastic Gradient Descent"
      ],
      "metadata": {
        "id": "cBe_UNbCXGPv"
      }
    },
    {
      "cell_type": "code",
      "source": [
        "import numpy as np\n",
        "import matplotlib.pyplot as plt"
      ],
      "metadata": {
        "id": "xSsn4NLhXU0y"
      },
      "execution_count": 1,
      "outputs": []
    },
    {
      "cell_type": "code",
      "source": [
        "m = 100000\n",
        "\n",
        "x = np.random.normal(size=m)\n",
        "X = x.reshape(-1, 1)\n",
        "y = 4.*x + 3. + np.random.normal(0, 3, size=m)"
      ],
      "metadata": {
        "id": "w4h_7rbGXZve"
      },
      "execution_count": 2,
      "outputs": []
    },
    {
      "cell_type": "code",
      "source": [
        "def J(theta, X_b, y):\n",
        "  try:\n",
        "      return np.sum((y - X_b.dot(theta)) ** 2) / len(y)\n",
        "  except:\n",
        "      return float('inf')\n",
        "    \n",
        "def dJ(theta, X_b, y):\n",
        "  return X_b.T.dot(X_b.dot(theta) - y) * 2. / len(y)\n",
        "\n",
        "def gradient_descent(X_b, y, initial_theta, eta, n_iters=1e4, epsilon=1e-8):\n",
        "\n",
        "  theta = initial_theta\n",
        "  cur_iter = 0\n",
        "\n",
        "  while cur_iter < n_iters:\n",
        "      gradient = dJ(theta, X_b, y)\n",
        "      last_theta = theta\n",
        "      theta = theta - eta * gradient\n",
        "      if (abs(J(theta, X_b, y) - J(last_theta, X_b, y)) < epsilon):\n",
        "            break\n",
        "\n",
        "      cur_iter += 1\n",
        "\n",
        "  return theta"
      ],
      "metadata": {
        "id": "0EsPAcz5YJCO"
      },
      "execution_count": 3,
      "outputs": []
    },
    {
      "cell_type": "code",
      "source": [
        "%%time\n",
        "X_b = np.hstack([np.ones((len(X), 1)), X])\n",
        "initial_theta = np.zeros(X_b.shape[1])\n",
        "eta = 0.01\n",
        "theta = gradient_descent(X_b, y, initial_theta, eta)"
      ],
      "metadata": {
        "colab": {
          "base_uri": "https://localhost:8080/"
        },
        "id": "Pk2sYaoPYlSU",
        "outputId": "e1921b17-8e98-4f00-95dc-647b1c2bed9a"
      },
      "execution_count": 4,
      "outputs": [
        {
          "output_type": "stream",
          "name": "stdout",
          "text": [
            "CPU times: user 1.09 s, sys: 720 ms, total: 1.81 s\n",
            "Wall time: 951 ms\n"
          ]
        }
      ]
    },
    {
      "cell_type": "code",
      "source": [
        "theta"
      ],
      "metadata": {
        "colab": {
          "base_uri": "https://localhost:8080/"
        },
        "id": "3scMK-bOYqZq",
        "outputId": "5ea717f3-22dc-4d05-c6f2-a2372660713e"
      },
      "execution_count": 5,
      "outputs": [
        {
          "output_type": "execute_result",
          "data": {
            "text/plain": [
              "array([2.99492556, 3.99267632])"
            ]
          },
          "metadata": {},
          "execution_count": 5
        }
      ]
    },
    {
      "cell_type": "markdown",
      "source": [
        "## Stochastic Gradient Descent"
      ],
      "metadata": {
        "id": "OdCTNMdcYtvH"
      }
    },
    {
      "cell_type": "code",
      "source": [
        "def dJ_sgd(theta, X_b_i, y_i):\n",
        "  return 2 * X_b_i.T.dot(X_b_i.dot(theta) - y_i)"
      ],
      "metadata": {
        "id": "iroaJnyhYykf"
      },
      "execution_count": 6,
      "outputs": []
    },
    {
      "cell_type": "code",
      "source": [
        "def sgd(X_b, y, initial_theta, n_iters):\n",
        "\n",
        "  t0 = 5\n",
        "  t1 = 50\n",
        "\n",
        "  def learning_rate(t):\n",
        "    return t0 / (t + t1)\n",
        "\n",
        "  theta = initial_theta\n",
        "  for cur_iter in range(n_iters):\n",
        "      rand_i = np.random.randint(len(X_b))\n",
        "      gradient = dJ_sgd(theta, X_b[rand_i], y[rand_i])\n",
        "      theta = theta - learning_rate(cur_iter) * gradient\n",
        "\n",
        "  return theta"
      ],
      "metadata": {
        "id": "PB2bjYC5ZKlX"
      },
      "execution_count": 11,
      "outputs": []
    },
    {
      "cell_type": "code",
      "source": [
        "%%time\n",
        "X_b = np.hstack([np.ones((len(X), 1)), X])\n",
        "initial_theta = np.zeros(X_b.shape[1])\n",
        "theta = sgd(X_b, y, initial_theta, n_iters=len(X_b)//3)"
      ],
      "metadata": {
        "colab": {
          "base_uri": "https://localhost:8080/"
        },
        "id": "c-2UaJINauVl",
        "outputId": "a333c5bd-2eb6-415d-a3b8-83638bd648b6"
      },
      "execution_count": 12,
      "outputs": [
        {
          "output_type": "stream",
          "name": "stdout",
          "text": [
            "CPU times: user 376 ms, sys: 1.78 ms, total: 378 ms\n",
            "Wall time: 378 ms\n"
          ]
        }
      ]
    },
    {
      "cell_type": "code",
      "source": [
        "theta"
      ],
      "metadata": {
        "colab": {
          "base_uri": "https://localhost:8080/"
        },
        "id": "IBsOm_0gbQYN",
        "outputId": "ab8eca3c-0817-47bd-e814-5b79c960b0fa"
      },
      "execution_count": 13,
      "outputs": [
        {
          "output_type": "execute_result",
          "data": {
            "text/plain": [
              "array([2.96907488, 3.96439932])"
            ]
          },
          "metadata": {},
          "execution_count": 13
        }
      ]
    }
  ]
}