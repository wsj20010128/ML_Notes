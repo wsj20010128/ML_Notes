{
  "nbformat": 4,
  "nbformat_minor": 0,
  "metadata": {
    "colab": {
      "name": "01-Gradient-Descent-Simulations.ipynb",
      "provenance": [],
      "collapsed_sections": [],
      "authorship_tag": "ABX9TyPVnxiuTrp3cWK+tzga8JXg",
      "include_colab_link": true
    },
    "kernelspec": {
      "name": "python3",
      "display_name": "Python 3"
    },
    "language_info": {
      "name": "python"
    }
  },
  "cells": [
    {
      "cell_type": "markdown",
      "metadata": {
        "id": "view-in-github",
        "colab_type": "text"
      },
      "source": [
        "<a href=\"https://colab.research.google.com/github/wsj20010128/ML_Notes/blob/main/Gradient-Descent/01-Gradient-Descent-Simulations/01-Gradient-Descent-Simulations.ipynb\" target=\"_parent\"><img src=\"https://colab.research.google.com/assets/colab-badge.svg\" alt=\"Open In Colab\"/></a>"
      ]
    },
    {
      "cell_type": "markdown",
      "source": [
        "# Gradient Descent Simulations"
      ],
      "metadata": {
        "id": "KwQr4X7kkOqg"
      }
    },
    {
      "cell_type": "code",
      "source": [
        "import numpy as np\n",
        "import matplotlib.pyplot as plt"
      ],
      "metadata": {
        "id": "F77aIF0EkSKa"
      },
      "execution_count": 21,
      "outputs": []
    },
    {
      "cell_type": "code",
      "source": [
        "plot_x = np.linspace(-1, 6, 141)\n",
        "plot_x"
      ],
      "metadata": {
        "colab": {
          "base_uri": "https://localhost:8080/"
        },
        "id": "kruMc2T3kWXU",
        "outputId": "929be2ef-2b96-4003-fbb3-87201889d2bc"
      },
      "execution_count": 22,
      "outputs": [
        {
          "output_type": "execute_result",
          "data": {
            "text/plain": [
              "array([-1.  , -0.95, -0.9 , -0.85, -0.8 , -0.75, -0.7 , -0.65, -0.6 ,\n",
              "       -0.55, -0.5 , -0.45, -0.4 , -0.35, -0.3 , -0.25, -0.2 , -0.15,\n",
              "       -0.1 , -0.05,  0.  ,  0.05,  0.1 ,  0.15,  0.2 ,  0.25,  0.3 ,\n",
              "        0.35,  0.4 ,  0.45,  0.5 ,  0.55,  0.6 ,  0.65,  0.7 ,  0.75,\n",
              "        0.8 ,  0.85,  0.9 ,  0.95,  1.  ,  1.05,  1.1 ,  1.15,  1.2 ,\n",
              "        1.25,  1.3 ,  1.35,  1.4 ,  1.45,  1.5 ,  1.55,  1.6 ,  1.65,\n",
              "        1.7 ,  1.75,  1.8 ,  1.85,  1.9 ,  1.95,  2.  ,  2.05,  2.1 ,\n",
              "        2.15,  2.2 ,  2.25,  2.3 ,  2.35,  2.4 ,  2.45,  2.5 ,  2.55,\n",
              "        2.6 ,  2.65,  2.7 ,  2.75,  2.8 ,  2.85,  2.9 ,  2.95,  3.  ,\n",
              "        3.05,  3.1 ,  3.15,  3.2 ,  3.25,  3.3 ,  3.35,  3.4 ,  3.45,\n",
              "        3.5 ,  3.55,  3.6 ,  3.65,  3.7 ,  3.75,  3.8 ,  3.85,  3.9 ,\n",
              "        3.95,  4.  ,  4.05,  4.1 ,  4.15,  4.2 ,  4.25,  4.3 ,  4.35,\n",
              "        4.4 ,  4.45,  4.5 ,  4.55,  4.6 ,  4.65,  4.7 ,  4.75,  4.8 ,\n",
              "        4.85,  4.9 ,  4.95,  5.  ,  5.05,  5.1 ,  5.15,  5.2 ,  5.25,\n",
              "        5.3 ,  5.35,  5.4 ,  5.45,  5.5 ,  5.55,  5.6 ,  5.65,  5.7 ,\n",
              "        5.75,  5.8 ,  5.85,  5.9 ,  5.95,  6.  ])"
            ]
          },
          "metadata": {},
          "execution_count": 22
        }
      ]
    },
    {
      "cell_type": "code",
      "source": [
        "plot_y = (plot_x - 2.5) ** 2 - 1"
      ],
      "metadata": {
        "id": "3VUqP5j7lrUq"
      },
      "execution_count": 23,
      "outputs": []
    },
    {
      "cell_type": "code",
      "source": [
        "plt.plot(plot_x, plot_y)\n",
        "plt.show()"
      ],
      "metadata": {
        "colab": {
          "base_uri": "https://localhost:8080/",
          "height": 265
        },
        "id": "45UP1PQWl5q9",
        "outputId": "9f2ba996-e2e1-4a4f-c181-aa05e1a71193"
      },
      "execution_count": 24,
      "outputs": [
        {
          "output_type": "display_data",
          "data": {
            "image/png": "[encoded data removed]",
            "text/plain": [
              "<Figure size 432x288 with 1 Axes>"
            ]
          },
          "metadata": {
            "needs_background": "light"
          }
        }
      ]
    },
    {
      "cell_type": "code",
      "source": [
        "def dJ(theta):\n",
        "  return 2 * (theta - 2.5)"
      ],
      "metadata": {
        "id": "Nv4Y5A6Jl9nd"
      },
      "execution_count": 25,
      "outputs": []
    },
    {
      "cell_type": "code",
      "source": [
        "def J(theta):\n",
        "  return (theta - 2.5) ** 2 - 1"
      ],
      "metadata": {
        "id": "cpqkL2LSm06C"
      },
      "execution_count": 26,
      "outputs": []
    },
    {
      "cell_type": "code",
      "source": [
        "eta = 0.1\n",
        "epsilon = 1e-8\n",
        "\n",
        "theta = 0.0\n",
        "while True:\n",
        "  gradient = dJ(theta)\n",
        "  last_theta = theta\n",
        "  theta = theta - eta * gradient\n",
        "\n",
        "  if (abs(J(theta) - J(last_theta)) < epsilon):\n",
        "    break\n",
        "\n",
        "print(theta)\n",
        "print(J(theta))"
      ],
      "metadata": {
        "colab": {
          "base_uri": "https://localhost:8080/"
        },
        "id": "imeXnV0GnAA1",
        "outputId": "1a5a3bf8-b7d9-47b3-f8f8-2ea6285307d0"
      },
      "execution_count": 27,
      "outputs": [
        {
          "output_type": "stream",
          "name": "stdout",
          "text": [
            "2.499891109642585\n",
            "-0.99999998814289\n"
          ]
        }
      ]
    },
    {
      "cell_type": "code",
      "source": [
        "theta = 0.0\n",
        "theta_history = [theta]\n",
        "while True:\n",
        "  gradient = dJ(theta)\n",
        "  last_theta = theta\n",
        "  theta = theta - eta * gradient\n",
        "  theta_history.append(theta)\n",
        "\n",
        "  if (abs(J(theta) - J(last_theta)) < epsilon):\n",
        "    break\n",
        "\n",
        "plt.plot(plot_x, J(plot_x))\n",
        "plt.plot(np.array(theta_history), J(np.array(theta_history)), color='r', marker='+')\n",
        "plt.show()"
      ],
      "metadata": {
        "colab": {
          "base_uri": "https://localhost:8080/",
          "height": 265
        },
        "id": "RWFnUihepGbj",
        "outputId": "cda2f82b-76bc-4708-ed73-336406c84b90"
      },
      "execution_count": 28,
      "outputs": [
        {
          "output_type": "display_data",
          "data": {
            "image/png": "[encoded data removed]",
            "text/plain": [
              "<Figure size 432x288 with 1 Axes>"
            ]
          },
          "metadata": {
            "needs_background": "light"
          }
        }
      ]
    },
    {
      "cell_type": "code",
      "source": [
        "len(theta_history)"
      ],
      "metadata": {
        "colab": {
          "base_uri": "https://localhost:8080/"
        },
        "id": "pKDVgmwdptny",
        "outputId": "a8a86711-6567-4b49-876f-1ed28fafd3c6"
      },
      "execution_count": 29,
      "outputs": [
        {
          "output_type": "execute_result",
          "data": {
            "text/plain": [
              "46"
            ]
          },
          "metadata": {},
          "execution_count": 29
        }
      ]
    },
    {
      "cell_type": "code",
      "source": [
        "def gradient_descent(initial_theta, eta, epsilon=1e-8):\n",
        "  theta = initial_theta\n",
        "  theta_history.append(initial_theta)\n",
        "\n",
        "  while True:\n",
        "    gradient = dJ(theta)\n",
        "    last_theta = theta\n",
        "    theta = theta - eta * gradient\n",
        "    theta_history.append(theta)\n",
        "\n",
        "    if (abs(J(theta) - J(last_theta)) < epsilon):\n",
        "      break\n",
        "\n",
        "def plot_theta_history():\n",
        "  plt.plot(plot_x, J(plot_x))\n",
        "  plt.plot(np.array(theta_history), J(np.array(theta_history)), color='r', marker='+')\n",
        "  plt.show()"
      ],
      "metadata": {
        "id": "7sTrTb35pvsG"
      },
      "execution_count": 30,
      "outputs": []
    },
    {
      "cell_type": "code",
      "source": [
        "eta = 0.01\n",
        "theta_history = []\n",
        "gradient_descent(0., eta)\n",
        "plot_theta_history()"
      ],
      "metadata": {
        "colab": {
          "base_uri": "https://localhost:8080/",
          "height": 265
        },
        "id": "WUlckfYWq9Pj",
        "outputId": "310aa9d6-a837-4bd6-fd33-5e3988e1175a"
      },
      "execution_count": 31,
      "outputs": [
        {
          "output_type": "display_data",
          "data": {
            "image/png": "[encoded data removed]",
            "text/plain": [
              "<Figure size 432x288 with 1 Axes>"
            ]
          },
          "metadata": {
            "needs_background": "light"
          }
        }
      ]
    },
    {
      "cell_type": "code",
      "source": [
        "len(theta_history)"
      ],
      "metadata": {
        "colab": {
          "base_uri": "https://localhost:8080/"
        },
        "id": "0-vqjC4wrU5d",
        "outputId": "6bd784da-dda6-4bc8-beb4-bc5566952a9e"
      },
      "execution_count": 32,
      "outputs": [
        {
          "output_type": "execute_result",
          "data": {
            "text/plain": [
              "424"
            ]
          },
          "metadata": {},
          "execution_count": 32
        }
      ]
    },
    {
      "cell_type": "code",
      "source": [
        "eta = 0.001\n",
        "theta_history = []\n",
        "gradient_descent(0., eta)\n",
        "plot_theta_history()"
      ],
      "metadata": {
        "colab": {
          "base_uri": "https://localhost:8080/",
          "height": 265
        },
        "id": "DDnXiZiv5K_R",
        "outputId": "ce24ed52-be03-486a-a267-cf537832eda4"
      },
      "execution_count": 33,
      "outputs": [
        {
          "output_type": "display_data",
          "data": {
            "image/png": "[encoded data removed]",
            "text/plain": [
              "<Figure size 432x288 with 1 Axes>"
            ]
          },
          "metadata": {
            "needs_background": "light"
          }
        }
      ]
    },
    {
      "cell_type": "code",
      "source": [
        "len(theta_history)"
      ],
      "metadata": {
        "colab": {
          "base_uri": "https://localhost:8080/"
        },
        "id": "zs12BuLy5Tz_",
        "outputId": "05c69cf7-ddb2-42e3-e3a8-fdb3fc6eed40"
      },
      "execution_count": 34,
      "outputs": [
        {
          "output_type": "execute_result",
          "data": {
            "text/plain": [
              "3682"
            ]
          },
          "metadata": {},
          "execution_count": 34
        }
      ]
    },
    {
      "cell_type": "code",
      "source": [
        "eta = 0.8\n",
        "theta_history = []\n",
        "gradient_descent(0., eta)\n",
        "plot_theta_history()"
      ],
      "metadata": {
        "colab": {
          "base_uri": "https://localhost:8080/",
          "height": 265
        },
        "id": "x9wULyUs5XMN",
        "outputId": "1e9a8f39-dbb0-4729-edf7-108b7b050355"
      },
      "execution_count": 35,
      "outputs": [
        {
          "output_type": "display_data",
          "data": {
            "image/png": "[encoded data removed]",
            "text/plain": [
              "<Figure size 432x288 with 1 Axes>"
            ]
          },
          "metadata": {
            "needs_background": "light"
          }
        }
      ]
    },
    {
      "cell_type": "code",
      "source": [
        "# eta is too large\n",
        "# OverflowError:\u001b(34, 'Result too large')\n",
        "eta = 1.1\n",
        "theta_history = []\n",
        "gradient_descent(0, eta)"
      ],
      "metadata": {
        "id": "fRstGduw6Upg"
      },
      "execution_count": null,
      "outputs": []
    },
    {
      "cell_type": "code",
      "source": [
        "def J(theta):\n",
        "  try:\n",
        "    return (theta - 2.5) ** 2 - 1\n",
        "  except:\n",
        "    return float('inf')"
      ],
      "metadata": {
        "id": "ZjW6x2JZ5r2R"
      },
      "execution_count": 36,
      "outputs": []
    },
    {
      "cell_type": "code",
      "source": [
        "def gradient_descent(initial_theta, eta, n_iters=1e4, epsilon=1e-8):\n",
        "  theta = initial_theta\n",
        "  theta_history.append(initial_theta)\n",
        "  i_iter = 0\n",
        "\n",
        "  while i_iter < n_iters:\n",
        "    gradient = dJ(theta)\n",
        "    last_theta = theta\n",
        "    theta = theta - eta * gradient\n",
        "    theta_history.append(theta)\n",
        "\n",
        "    if (abs(J(theta) - J(last_theta)) < epsilon):\n",
        "      break\n",
        "    i_iter += 1"
      ],
      "metadata": {
        "id": "K7k-pv0M6Vg0"
      },
      "execution_count": 38,
      "outputs": []
    },
    {
      "cell_type": "code",
      "source": [
        "eta = 1.1\n",
        "theta_history = []\n",
        "gradient_descent(0, eta)"
      ],
      "metadata": {
        "id": "ly8mMV9k63D6"
      },
      "execution_count": 39,
      "outputs": []
    },
    {
      "cell_type": "code",
      "source": [
        "len(theta_history)"
      ],
      "metadata": {
        "colab": {
          "base_uri": "https://localhost:8080/"
        },
        "id": "mtcV5rxE6532",
        "outputId": "c96085fa-0748-45fe-f073-3e1cd2bb5939"
      },
      "execution_count": 40,
      "outputs": [
        {
          "output_type": "execute_result",
          "data": {
            "text/plain": [
              "10001"
            ]
          },
          "metadata": {},
          "execution_count": 40
        }
      ]
    },
    {
      "cell_type": "code",
      "source": [
        "theta_history[-1]"
      ],
      "metadata": {
        "colab": {
          "base_uri": "https://localhost:8080/"
        },
        "id": "DNi3qoK26797",
        "outputId": "9c0e10d5-7b58-4601-e166-e2d66e6c1a54"
      },
      "execution_count": 41,
      "outputs": [
        {
          "output_type": "execute_result",
          "data": {
            "text/plain": [
              "nan"
            ]
          },
          "metadata": {},
          "execution_count": 41
        }
      ]
    },
    {
      "cell_type": "code",
      "source": [
        "eta = 1.1\n",
        "theta_history = []\n",
        "gradient_descent(0, eta, n_iters=10)\n",
        "plot_theta_history()"
      ],
      "metadata": {
        "colab": {
          "base_uri": "https://localhost:8080/",
          "height": 269
        },
        "id": "qyLCI2oM7BBC",
        "outputId": "64dc0d1b-f30c-449d-f14f-5adcc627aa91"
      },
      "execution_count": 42,
      "outputs": [
        {
          "output_type": "display_data",
          "data": {
            "image/png": "[encoded data removed]",
            "text/plain": [
              "<Figure size 432x288 with 1 Axes>"
            ]
          },
          "metadata": {
            "needs_background": "light"
          }
        }
      ]
    }
  ]
}