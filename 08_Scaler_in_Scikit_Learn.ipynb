{
  "nbformat": 4,
  "nbformat_minor": 0,
  "metadata": {
    "colab": {
      "name": "08-Scaler-in-Scikit-Learn.ipynb",
      "provenance": [],
      "collapsed_sections": [],
      "authorship_tag": "ABX9TyMP/5nWoJpvp3H6EKl1Etkh",
      "include_colab_link": true
    },
    "kernelspec": {
      "name": "python3",
      "display_name": "Python 3"
    },
    "language_info": {
      "name": "python"
    }
  },
  "cells": [
    {
      "cell_type": "markdown",
      "metadata": {
        "id": "view-in-github",
        "colab_type": "text"
      },
      "source": [
        "<a href=\"https://colab.research.google.com/github/wsj20010128/ML_Notes/blob/main/08_Scaler_in_Scikit_Learn.ipynb\" target=\"_parent\"><img src=\"https://colab.research.google.com/assets/colab-badge.svg\" alt=\"Open In Colab\"/></a>"
      ]
    },
    {
      "cell_type": "markdown",
      "source": [
        "# 08 Scaler in Scikit Learn"
      ],
      "metadata": {
        "id": "gYsdncf61qNQ"
      }
    },
    {
      "cell_type": "markdown",
      "source": [
        "## How to normalize the test set?\n",
        "### The test set simulates the real situations\n",
        "### The mean and variance of all test data may not be available in the real situations \n",
        "### The normalization of the data is also a part of the algorithm\n",
        "### Normalizing test data: (X_test - mean_train) / std_train"
      ],
      "metadata": {
        "id": "hAKgIMGB7-AB"
      }
    },
    {
      "cell_type": "code",
      "source": [
        "import numpy as np\n",
        "from sklearn import datasets"
      ],
      "metadata": {
        "id": "HZEapWpJ3Ymd"
      },
      "execution_count": null,
      "outputs": []
    },
    {
      "cell_type": "code",
      "source": [
        "iris = datasets.load_iris()"
      ],
      "metadata": {
        "id": "yfhBNwBj3eZD"
      },
      "execution_count": null,
      "outputs": []
    },
    {
      "cell_type": "code",
      "source": [
        "X = iris.data\n",
        "y = iris.target"
      ],
      "metadata": {
        "id": "prt2nuX9332U"
      },
      "execution_count": null,
      "outputs": []
    },
    {
      "cell_type": "code",
      "source": [
        "X[:10,:]"
      ],
      "metadata": {
        "id": "2yIbmLOy38wR",
        "colab": {
          "base_uri": "https://localhost:8080/"
        },
        "outputId": "1794d8fe-1fd1-4462-aa27-71db0309c701"
      },
      "execution_count": null,
      "outputs": [
        {
          "output_type": "execute_result",
          "data": {
            "text/plain": [
              "array([[5.1, 3.5, 1.4, 0.2],\n",
              "       [4.9, 3. , 1.4, 0.2],\n",
              "       [4.7, 3.2, 1.3, 0.2],\n",
              "       [4.6, 3.1, 1.5, 0.2],\n",
              "       [5. , 3.6, 1.4, 0.2],\n",
              "       [5.4, 3.9, 1.7, 0.4],\n",
              "       [4.6, 3.4, 1.4, 0.3],\n",
              "       [5. , 3.4, 1.5, 0.2],\n",
              "       [4.4, 2.9, 1.4, 0.2],\n",
              "       [4.9, 3.1, 1.5, 0.1]])"
            ]
          },
          "metadata": {},
          "execution_count": 4
        }
      ]
    },
    {
      "cell_type": "code",
      "source": [
        "from sklearn.model_selection import train_test_split\n",
        "X_train, X_test, y_train, y_test = train_test_split(X, y, test_size=0.2, random_state=666)"
      ],
      "metadata": {
        "id": "ziJn7KGO4HeD"
      },
      "execution_count": null,
      "outputs": []
    },
    {
      "cell_type": "markdown",
      "source": [
        "## StandardScaler in Scikit Learn"
      ],
      "metadata": {
        "id": "ja3UpGDn4y3s"
      }
    },
    {
      "cell_type": "code",
      "source": [
        "from sklearn.preprocessing import StandardScaler"
      ],
      "metadata": {
        "id": "MsAlExfW45Tx"
      },
      "execution_count": null,
      "outputs": []
    },
    {
      "cell_type": "code",
      "source": [
        "standardScaler = StandardScaler()"
      ],
      "metadata": {
        "id": "vLaPVhBC5D-u"
      },
      "execution_count": null,
      "outputs": []
    },
    {
      "cell_type": "code",
      "source": [
        "standardScaler.fit(X_train)"
      ],
      "metadata": {
        "colab": {
          "base_uri": "https://localhost:8080/"
        },
        "id": "vGLuAJ_35QCW",
        "outputId": "0a7244bb-8696-4e38-f3ef-33cf2b2b0b4d"
      },
      "execution_count": null,
      "outputs": [
        {
          "output_type": "execute_result",
          "data": {
            "text/plain": [
              "StandardScaler()"
            ]
          },
          "metadata": {},
          "execution_count": 8
        }
      ]
    },
    {
      "cell_type": "code",
      "source": [
        "standardScaler.mean_"
      ],
      "metadata": {
        "colab": {
          "base_uri": "https://localhost:8080/"
        },
        "id": "At9KZ18s5ZPe",
        "outputId": "764fb3d9-8c63-49c2-c1f9-3a9e7e88bb2e"
      },
      "execution_count": null,
      "outputs": [
        {
          "output_type": "execute_result",
          "data": {
            "text/plain": [
              "array([5.83416667, 3.08666667, 3.70833333, 1.17      ])"
            ]
          },
          "metadata": {},
          "execution_count": 9
        }
      ]
    },
    {
      "cell_type": "code",
      "source": [
        "standardScaler.scale_"
      ],
      "metadata": {
        "colab": {
          "base_uri": "https://localhost:8080/"
        },
        "id": "iSOBE4FY5kJp",
        "outputId": "56200911-e534-439a-fc84-a6345ea78f82"
      },
      "execution_count": null,
      "outputs": [
        {
          "output_type": "execute_result",
          "data": {
            "text/plain": [
              "array([0.81019502, 0.44327067, 1.76401924, 0.75317107])"
            ]
          },
          "metadata": {},
          "execution_count": 10
        }
      ]
    },
    {
      "cell_type": "code",
      "source": [
        "# normalize X_train\n",
        "standardScaler.transform(X_train)"
      ],
      "metadata": {
        "colab": {
          "base_uri": "https://localhost:8080/"
        },
        "id": "54Ws2Jyt5uQY",
        "outputId": "d9ac0d0e-88cb-4fe8-fa6d-ddc67360eb05"
      },
      "execution_count": null,
      "outputs": [
        {
          "output_type": "execute_result",
          "data": {
            "text/plain": [
              "array([[-0.90616043,  0.93246262, -1.30856471, -1.28788802],\n",
              "       [-1.15301457, -0.19551636, -1.30856471, -1.28788802],\n",
              "       [-0.16559799, -0.64670795,  0.22203084,  0.17260355],\n",
              "       [ 0.45153738,  0.70686683,  0.95898425,  1.50032315],\n",
              "       [-0.90616043, -1.32349533, -0.40154513, -0.09294037],\n",
              "       [ 1.43895396,  0.25567524,  0.56216318,  0.30537551],\n",
              "       [ 0.3281103 , -1.09789954,  1.0723617 ,  0.30537551],\n",
              "       [ 2.1795164 , -0.19551636,  1.63924894,  1.23477923],\n",
              "       [-0.78273335,  2.2860374 , -1.25187599, -1.42065998],\n",
              "       [ 0.45153738, -2.00028272,  0.44878573,  0.43814747],\n",
              "       [ 1.80923518, -0.42111215,  1.46918276,  0.83646335],\n",
              "       [ 0.69839152,  0.25567524,  0.90229552,  1.50032315],\n",
              "       [ 0.20468323,  0.70686683,  0.44878573,  0.57091943],\n",
              "       [-0.78273335, -0.87230374,  0.10865339,  0.30537551],\n",
              "       [-0.53587921,  1.38365421, -1.25187599, -1.28788802],\n",
              "       [-0.65930628,  1.38365421, -1.25187599, -1.28788802],\n",
              "       [-1.0295875 ,  0.93246262, -1.19518726, -0.75680017],\n",
              "       [-1.77014994, -0.42111215, -1.30856471, -1.28788802],\n",
              "       [-0.04217092, -0.87230374,  0.10865339,  0.03983159],\n",
              "       [-0.78273335,  0.70686683, -1.30856471, -1.28788802],\n",
              "       [-1.52329579,  0.70686683, -1.30856471, -1.15511606],\n",
              "       [ 0.82181859,  0.25567524,  0.78891808,  1.10200727],\n",
              "       [-0.16559799, -0.42111215,  0.27871956,  0.17260355],\n",
              "       [ 0.94524567, -0.19551636,  0.39209701,  0.30537551],\n",
              "       [ 0.20468323, -0.42111215,  0.44878573,  0.43814747],\n",
              "       [-1.39986872,  0.25567524, -1.19518726, -1.28788802],\n",
              "       [-1.15301457,  1.15805842, -1.30856471, -1.42065998],\n",
              "       [ 1.06867274,  0.03007944,  1.0723617 ,  1.63309511],\n",
              "       [ 0.57496445, -0.87230374,  0.67554063,  0.83646335],\n",
              "       [ 0.3281103 , -0.64670795,  0.56216318,  0.03983159],\n",
              "       [ 0.45153738, -0.64670795,  0.6188519 ,  0.83646335],\n",
              "       [-0.16559799,  2.96282478, -1.25187599, -1.0223441 ],\n",
              "       [ 0.57496445, -1.32349533,  0.67554063,  0.43814747],\n",
              "       [ 0.69839152, -0.42111215,  0.33540828,  0.17260355],\n",
              "       [-0.90616043,  1.60925001, -1.02512109, -1.0223441 ],\n",
              "       [ 1.19209981, -0.64670795,  0.6188519 ,  0.30537551],\n",
              "       [-0.90616043,  0.93246262, -1.30856471, -1.15511606],\n",
              "       [-1.89357701, -0.19551636, -1.47863088, -1.42065998],\n",
              "       [ 0.08125616, -0.19551636,  0.78891808,  0.83646335],\n",
              "       [ 0.69839152, -0.64670795,  1.0723617 ,  1.23477923],\n",
              "       [-0.28902506, -0.64670795,  0.67554063,  1.10200727],\n",
              "       [-0.41245214, -1.54909113, -0.00472406, -0.22571233],\n",
              "       [ 1.31552689,  0.03007944,  0.67554063,  0.43814747],\n",
              "       [ 0.57496445,  0.70686683,  1.0723617 ,  1.63309511],\n",
              "       [ 0.82181859, -0.19551636,  1.18573914,  1.36755119],\n",
              "       [-0.16559799,  1.60925001, -1.13849854, -1.15511606],\n",
              "       [ 0.94524567, -0.42111215,  0.50547446,  0.17260355],\n",
              "       [ 1.06867274,  0.48127103,  1.12905042,  1.76586707],\n",
              "       [-1.27644165, -0.19551636, -1.30856471, -1.42065998],\n",
              "       [-1.0295875 ,  1.15805842, -1.30856471, -1.28788802],\n",
              "       [ 0.20468323, -0.19551636,  0.6188519 ,  0.83646335],\n",
              "       [-1.0295875 , -0.19551636, -1.19518726, -1.28788802],\n",
              "       [ 0.3281103 , -0.19551636,  0.67554063,  0.83646335],\n",
              "       [ 0.69839152,  0.03007944,  1.01567297,  0.83646335],\n",
              "       [-0.90616043,  1.38365421, -1.25187599, -1.0223441 ],\n",
              "       [-0.16559799, -0.19551636,  0.27871956,  0.03983159],\n",
              "       [-1.0295875 ,  0.93246262, -1.36525344, -1.15511606],\n",
              "       [-0.90616043,  1.60925001, -1.25187599, -1.15511606],\n",
              "       [-1.52329579,  0.25567524, -1.30856471, -1.28788802],\n",
              "       [-0.53587921, -0.19551636,  0.44878573,  0.43814747],\n",
              "       [ 0.82181859, -0.64670795,  0.50547446,  0.43814747],\n",
              "       [ 0.3281103 , -0.64670795,  0.16534211,  0.17260355],\n",
              "       [-1.27644165,  0.70686683, -1.19518726, -1.28788802],\n",
              "       [-0.90616043,  0.48127103, -1.13849854, -0.88957213],\n",
              "       [-0.04217092, -0.87230374,  0.78891808,  0.96923531],\n",
              "       [-0.28902506, -0.19551636,  0.22203084,  0.17260355],\n",
              "       [ 0.57496445, -0.64670795,  0.78891808,  0.43814747],\n",
              "       [ 1.06867274,  0.48127103,  1.12905042,  1.23477923],\n",
              "       [ 1.68580811, -0.19551636,  1.18573914,  0.57091943],\n",
              "       [ 1.06867274, -0.19551636,  0.8456068 ,  1.50032315],\n",
              "       [-1.15301457,  0.03007944, -1.25187599, -1.42065998],\n",
              "       [-1.15301457, -1.32349533,  0.44878573,  0.70369139],\n",
              "       [-0.16559799, -1.32349533,  0.73222935,  1.10200727],\n",
              "       [-1.15301457, -1.54909113, -0.23147896, -0.22571233],\n",
              "       [-0.41245214, -1.54909113,  0.05196466, -0.09294037],\n",
              "       [ 1.06867274, -1.32349533,  1.18573914,  0.83646335],\n",
              "       [ 0.82181859, -0.19551636,  1.01567297,  0.83646335],\n",
              "       [-0.16559799, -1.09789954, -0.11810151, -0.22571233],\n",
              "       [ 0.20468323, -2.00028272,  0.73222935,  0.43814747],\n",
              "       [ 1.06867274,  0.03007944,  0.56216318,  0.43814747],\n",
              "       [-1.15301457,  0.03007944, -1.25187599, -1.28788802],\n",
              "       [ 0.57496445, -1.32349533,  0.73222935,  0.96923531],\n",
              "       [-1.39986872,  0.25567524, -1.36525344, -1.28788802],\n",
              "       [ 0.20468323, -0.87230374,  0.78891808,  0.57091943],\n",
              "       [-0.04217092, -1.09789954,  0.16534211,  0.03983159],\n",
              "       [ 1.31552689,  0.25567524,  1.12905042,  1.50032315],\n",
              "       [-1.77014994, -0.19551636, -1.36525344, -1.28788802],\n",
              "       [ 1.56238103, -0.19551636,  1.24242787,  1.23477923],\n",
              "       [ 1.19209981,  0.25567524,  1.24242787,  1.50032315],\n",
              "       [-0.78273335,  0.93246262, -1.25187599, -1.28788802],\n",
              "       [ 2.54979762,  1.60925001,  1.52587149,  1.10200727],\n",
              "       [ 0.69839152, -0.64670795,  1.0723617 ,  1.36755119],\n",
              "       [-0.28902506, -0.42111215, -0.06141278,  0.17260355],\n",
              "       [-0.41245214,  2.51163319, -1.30856471, -1.28788802],\n",
              "       [-1.27644165, -0.19551636, -1.30856471, -1.15511606],\n",
              "       [ 0.57496445, -0.42111215,  1.0723617 ,  0.83646335],\n",
              "       [-1.77014994,  0.25567524, -1.36525344, -1.28788802],\n",
              "       [-0.53587921,  1.8348458 , -1.13849854, -1.0223441 ],\n",
              "       [-1.0295875 ,  0.70686683, -1.19518726, -1.0223441 ],\n",
              "       [ 1.06867274, -0.19551636,  0.73222935,  0.70369139],\n",
              "       [-0.53587921,  1.8348458 , -1.36525344, -1.0223441 ],\n",
              "       [ 2.30294347, -0.64670795,  1.69593766,  1.10200727],\n",
              "       [-0.28902506, -0.87230374,  0.27871956,  0.17260355],\n",
              "       [ 1.19209981, -0.19551636,  1.01567297,  1.23477923],\n",
              "       [-0.41245214,  0.93246262, -1.36525344, -1.28788802],\n",
              "       [-1.27644165,  0.70686683, -1.02512109, -1.28788802],\n",
              "       [-0.53587921,  0.70686683, -1.13849854, -1.28788802],\n",
              "       [ 2.30294347,  1.60925001,  1.69593766,  1.36755119],\n",
              "       [ 1.31552689,  0.03007944,  0.95898425,  1.23477923],\n",
              "       [-0.28902506, -1.32349533,  0.10865339, -0.09294037],\n",
              "       [-0.90616043,  0.70686683, -1.25187599, -1.28788802],\n",
              "       [-0.90616043,  1.60925001, -1.19518726, -1.28788802],\n",
              "       [ 0.3281103 , -0.42111215,  0.56216318,  0.30537551],\n",
              "       [-0.04217092,  2.0604416 , -1.42194216, -1.28788802],\n",
              "       [-1.0295875 , -2.45147431, -0.11810151, -0.22571233],\n",
              "       [ 0.69839152,  0.25567524,  0.44878573,  0.43814747],\n",
              "       [ 0.3281103 , -0.19551636,  0.50547446,  0.30537551],\n",
              "       [ 0.08125616,  0.25567524,  0.6188519 ,  0.83646335],\n",
              "       [ 0.20468323, -2.00028272,  0.16534211, -0.22571233],\n",
              "       [ 1.93266225, -0.64670795,  1.35580532,  0.96923531]])"
            ]
          },
          "metadata": {},
          "execution_count": 11
        }
      ]
    },
    {
      "cell_type": "code",
      "source": [
        "X_train = standardScaler.transform(X_train)"
      ],
      "metadata": {
        "id": "ICoyl9G16C5Q"
      },
      "execution_count": null,
      "outputs": []
    },
    {
      "cell_type": "code",
      "source": [
        "X_test_standard = standardScaler.transform(X_test)"
      ],
      "metadata": {
        "id": "_C-eXsTJ6cFU"
      },
      "execution_count": null,
      "outputs": []
    },
    {
      "cell_type": "code",
      "source": [
        "from sklearn.neighbors import KNeighborsClassifier"
      ],
      "metadata": {
        "id": "r0xA5Mfh6lIn"
      },
      "execution_count": null,
      "outputs": []
    },
    {
      "cell_type": "code",
      "source": [
        "knn_clf = KNeighborsClassifier(n_neighbors=3)"
      ],
      "metadata": {
        "id": "8_cMRl5M6qSH"
      },
      "execution_count": null,
      "outputs": []
    },
    {
      "cell_type": "code",
      "source": [
        "knn_clf.fit(X_train, y_train)"
      ],
      "metadata": {
        "colab": {
          "base_uri": "https://localhost:8080/"
        },
        "id": "yfrpSCcc62Ih",
        "outputId": "3d2457b3-880e-41d2-d56b-2b9858dd3149"
      },
      "execution_count": null,
      "outputs": [
        {
          "output_type": "execute_result",
          "data": {
            "text/plain": [
              "KNeighborsClassifier(n_neighbors=3)"
            ]
          },
          "metadata": {},
          "execution_count": 16
        }
      ]
    },
    {
      "cell_type": "code",
      "source": [
        "# X_train is normalized\n",
        "# So X_test must be normalized during prediction\n",
        "knn_clf.score(X_test_standard, y_test)"
      ],
      "metadata": {
        "colab": {
          "base_uri": "https://localhost:8080/"
        },
        "id": "_o_wMcKk66ts",
        "outputId": "747bdc83-412b-496c-df2d-cc48d4676c75"
      },
      "execution_count": null,
      "outputs": [
        {
          "output_type": "execute_result",
          "data": {
            "text/plain": [
              "1.0"
            ]
          },
          "metadata": {},
          "execution_count": 17
        }
      ]
    },
    {
      "cell_type": "code",
      "source": [
        "# X_test without normalization has bad predicting outcomes\n",
        "knn_clf.score(X_test, y_test)"
      ],
      "metadata": {
        "colab": {
          "base_uri": "https://localhost:8080/"
        },
        "id": "TqddJ5V-7Gsl",
        "outputId": "284db931-e2a0-483b-e7a1-564f1bacc40f"
      },
      "execution_count": null,
      "outputs": [
        {
          "output_type": "execute_result",
          "data": {
            "text/plain": [
              "0.3333333333333333"
            ]
          },
          "metadata": {},
          "execution_count": 18
        }
      ]
    },
    {
      "cell_type": "markdown",
      "source": [
        "## Test my own code"
      ],
      "metadata": {
        "id": "qnUQGczVBQ8o"
      }
    },
    {
      "cell_type": "code",
      "source": [
        "X_train, X_test, y_train, y_test = train_test_split(iris.data, iris.target, test_size=0.2, random_state=666)"
      ],
      "metadata": {
        "id": "j6EwH0W8BULD"
      },
      "execution_count": null,
      "outputs": []
    },
    {
      "cell_type": "code",
      "source": [
        "from playML.preprocessing import StandardScaler"
      ],
      "metadata": {
        "id": "dvPxr4vtBe1j"
      },
      "execution_count": null,
      "outputs": []
    },
    {
      "cell_type": "code",
      "source": [
        "my_standardScaler = StandardScaler()"
      ],
      "metadata": {
        "id": "9F0TKv4GBoPH"
      },
      "execution_count": null,
      "outputs": []
    },
    {
      "cell_type": "code",
      "source": [
        "my_standardScaler.fit(X_train)"
      ],
      "metadata": {
        "colab": {
          "base_uri": "https://localhost:8080/"
        },
        "id": "Octrq0JsBwVs",
        "outputId": "fba5be5f-1e88-4dc7-9d17-9216d807c2cc"
      },
      "execution_count": null,
      "outputs": [
        {
          "output_type": "execute_result",
          "data": {
            "text/plain": [
              "<preprocessing.StandardScaler at 0x7f9c2cf7a410>"
            ]
          },
          "metadata": {},
          "execution_count": 22
        }
      ]
    },
    {
      "cell_type": "code",
      "source": [
        "my_standardScaler.mean_"
      ],
      "metadata": {
        "colab": {
          "base_uri": "https://localhost:8080/"
        },
        "id": "o2iABkHUCJhD",
        "outputId": "9f86cff7-5666-4cd1-92db-c5d7fd4ce2b1"
      },
      "execution_count": null,
      "outputs": [
        {
          "output_type": "execute_result",
          "data": {
            "text/plain": [
              "array([5.83416667, 3.08666667, 3.70833333, 1.17      ])"
            ]
          },
          "metadata": {},
          "execution_count": 23
        }
      ]
    },
    {
      "cell_type": "code",
      "source": [
        "my_standardScaler.scale_"
      ],
      "metadata": {
        "colab": {
          "base_uri": "https://localhost:8080/"
        },
        "id": "0Qv58wnhCMSx",
        "outputId": "4f776745-88d7-4adf-e441-952b3ecd6a3d"
      },
      "execution_count": null,
      "outputs": [
        {
          "output_type": "execute_result",
          "data": {
            "text/plain": [
              "array([0.81019502, 0.44327067, 1.76401924, 0.75317107])"
            ]
          },
          "metadata": {},
          "execution_count": 24
        }
      ]
    },
    {
      "cell_type": "code",
      "source": [
        "X_train = my_standardScaler.transform(X_train)"
      ],
      "metadata": {
        "id": "4Jce1nuACO_m"
      },
      "execution_count": null,
      "outputs": []
    },
    {
      "cell_type": "code",
      "source": [
        "X_train[:10,:]"
      ],
      "metadata": {
        "colab": {
          "base_uri": "https://localhost:8080/"
        },
        "id": "4bWU5iBCCYAU",
        "outputId": "e9883b42-98f1-4368-e9a1-665543bd6859"
      },
      "execution_count": null,
      "outputs": [
        {
          "output_type": "execute_result",
          "data": {
            "text/plain": [
              "array([[-0.90616043,  0.93246262, -1.30856471, -1.28788802],\n",
              "       [-1.15301457, -0.19551636, -1.30856471, -1.28788802],\n",
              "       [-0.16559799, -0.64670795,  0.22203084,  0.17260355],\n",
              "       [ 0.45153738,  0.70686683,  0.95898425,  1.50032315],\n",
              "       [-0.90616043, -1.32349533, -0.40154513, -0.09294037],\n",
              "       [ 1.43895396,  0.25567524,  0.56216318,  0.30537551],\n",
              "       [ 0.3281103 , -1.09789954,  1.0723617 ,  0.30537551],\n",
              "       [ 2.1795164 , -0.19551636,  1.63924894,  1.23477923],\n",
              "       [-0.78273335,  2.2860374 , -1.25187599, -1.42065998],\n",
              "       [ 0.45153738, -2.00028272,  0.44878573,  0.43814747]])"
            ]
          },
          "metadata": {},
          "execution_count": 26
        }
      ]
    },
    {
      "cell_type": "code",
      "source": [
        "from sklearn.neighbors import KNeighborsClassifier"
      ],
      "metadata": {
        "id": "uZSiXlOoCaas"
      },
      "execution_count": null,
      "outputs": []
    },
    {
      "cell_type": "code",
      "source": [
        "my_knn_clf = KNeighborsClassifier(n_neighbors=3)"
      ],
      "metadata": {
        "id": "o3hyWI-LCliR"
      },
      "execution_count": null,
      "outputs": []
    },
    {
      "cell_type": "code",
      "source": [
        "my_knn_clf.fit(X_train, y_train)"
      ],
      "metadata": {
        "colab": {
          "base_uri": "https://localhost:8080/"
        },
        "id": "ORjN-tozC4bP",
        "outputId": "bd053782-9ea9-4999-fc51-08c4f149210e"
      },
      "execution_count": null,
      "outputs": [
        {
          "output_type": "execute_result",
          "data": {
            "text/plain": [
              "KNeighborsClassifier(n_neighbors=3)"
            ]
          },
          "metadata": {},
          "execution_count": 29
        }
      ]
    },
    {
      "cell_type": "code",
      "source": [
        "X_test_standard = my_standardScaler.transform(X_test)"
      ],
      "metadata": {
        "id": "XbhHhet8C70C"
      },
      "execution_count": null,
      "outputs": []
    },
    {
      "cell_type": "code",
      "source": [
        "my_knn_clf.score(X_test_standard, y_test)"
      ],
      "metadata": {
        "colab": {
          "base_uri": "https://localhost:8080/"
        },
        "id": "SL-xMBNTDDqF",
        "outputId": "e752a578-4fa0-4088-a4ee-ca2363ab61ba"
      },
      "execution_count": null,
      "outputs": [
        {
          "output_type": "execute_result",
          "data": {
            "text/plain": [
              "1.0"
            ]
          },
          "metadata": {},
          "execution_count": 31
        }
      ]
    },
    {
      "cell_type": "code",
      "source": [
        "my_knn_clf.score(X_test, y_test)"
      ],
      "metadata": {
        "colab": {
          "base_uri": "https://localhost:8080/"
        },
        "id": "EPK0Y4hlDH-B",
        "outputId": "8e5a79e7-1515-4007-ee2f-faaa79e0809d"
      },
      "execution_count": null,
      "outputs": [
        {
          "output_type": "execute_result",
          "data": {
            "text/plain": [
              "0.3333333333333333"
            ]
          },
          "metadata": {},
          "execution_count": 32
        }
      ]
    }
  ]
}