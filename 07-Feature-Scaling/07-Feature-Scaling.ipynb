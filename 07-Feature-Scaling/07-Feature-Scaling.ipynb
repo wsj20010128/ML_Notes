{
  "nbformat": 4,
  "nbformat_minor": 0,
  "metadata": {
    "colab": {
      "name": "07-Feature-Scaling.ipynb",
      "provenance": [],
      "authorship_tag": "ABX9TyOVGC/pIAmWVI/6F44CtgKh",
      "include_colab_link": true
    },
    "kernelspec": {
      "name": "python3",
      "display_name": "Python 3"
    },
    "language_info": {
      "name": "python"
    }
  },
  "cells": [
    {
      "cell_type": "markdown",
      "metadata": {
        "id": "view-in-github",
        "colab_type": "text"
      },
      "source": [
        "<a href=\"https://colab.research.google.com/github/wsj20010128/ML_Notes/blob/main/07-Feature-Scaling/07-Feature-Scaling.ipynb\" target=\"_parent\"><img src=\"https://colab.research.google.com/assets/colab-badge.svg\" alt=\"Open In Colab\"/></a>"
      ]
    },
    {
      "cell_type": "markdown",
      "source": [
        "# Feature Scaling"
      ],
      "metadata": {
        "id": "slblZ20f_H9m"
      }
    },
    {
      "cell_type": "code",
      "source": [
        "import numpy as np\n",
        "import matplotlib.pyplot as plt"
      ],
      "metadata": {
        "id": "-2k-YhAK_Pqj"
      },
      "execution_count": 1,
      "outputs": []
    },
    {
      "cell_type": "markdown",
      "source": [
        "## Min-Max Scaling (Normalization)\n",
        "### Mapping data into 0-1 range\n",
        "### Applicable to the situation where the data has obvious boundaries\n",
        "### e.g. scores(0 - 100)\n",
        "### Easily affected by outliers\n",
        "![image.png](data:image/png;base64,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)"
      ],
      "metadata": {
        "id": "UFQjJHJF_bkS"
      }
    },
    {
      "cell_type": "code",
      "source": [
        "x = np.random.randint(0, 100, size=100)\n",
        "x"
      ],
      "metadata": {
        "colab": {
          "base_uri": "https://localhost:8080/"
        },
        "id": "F48bGrBK_ffs",
        "outputId": "32619d78-d4b9-4c5f-e6fa-967f95152a12"
      },
      "execution_count": 2,
      "outputs": [
        {
          "output_type": "execute_result",
          "data": {
            "text/plain": [
              "array([64, 95, 40,  7, 98, 58, 85, 44, 80, 69, 75, 92, 29, 59, 93, 51, 83,\n",
              "       60, 74, 73, 27,  7, 77, 22, 42, 18, 24,  7,  0, 94, 16, 69, 87, 25,\n",
              "       19, 23, 14, 53,  7, 80,  9, 86, 83, 65, 53, 63, 33, 47, 35, 67, 27,\n",
              "       15, 36, 54, 66, 68, 27, 36, 51, 21, 49, 11, 40, 65, 44, 17, 14, 95,\n",
              "       47, 28, 37, 73, 19, 26, 15, 89, 73, 94, 19, 89, 93, 56, 39, 58, 12,\n",
              "       48, 19, 44, 51, 19, 36, 57, 73, 97, 84, 74,  2, 99, 76, 12])"
            ]
          },
          "metadata": {},
          "execution_count": 2
        }
      ]
    },
    {
      "cell_type": "code",
      "source": [
        "(x - np.min(x)) / (np.max(x) - np.min(x))"
      ],
      "metadata": {
        "colab": {
          "base_uri": "https://localhost:8080/"
        },
        "id": "8-7m5xW-_xty",
        "outputId": "28d22308-82d0-42ae-8da6-adb5e6289300"
      },
      "execution_count": 3,
      "outputs": [
        {
          "output_type": "execute_result",
          "data": {
            "text/plain": [
              "array([0.64646465, 0.95959596, 0.4040404 , 0.07070707, 0.98989899,\n",
              "       0.58585859, 0.85858586, 0.44444444, 0.80808081, 0.6969697 ,\n",
              "       0.75757576, 0.92929293, 0.29292929, 0.5959596 , 0.93939394,\n",
              "       0.51515152, 0.83838384, 0.60606061, 0.74747475, 0.73737374,\n",
              "       0.27272727, 0.07070707, 0.77777778, 0.22222222, 0.42424242,\n",
              "       0.18181818, 0.24242424, 0.07070707, 0.        , 0.94949495,\n",
              "       0.16161616, 0.6969697 , 0.87878788, 0.25252525, 0.19191919,\n",
              "       0.23232323, 0.14141414, 0.53535354, 0.07070707, 0.80808081,\n",
              "       0.09090909, 0.86868687, 0.83838384, 0.65656566, 0.53535354,\n",
              "       0.63636364, 0.33333333, 0.47474747, 0.35353535, 0.67676768,\n",
              "       0.27272727, 0.15151515, 0.36363636, 0.54545455, 0.66666667,\n",
              "       0.68686869, 0.27272727, 0.36363636, 0.51515152, 0.21212121,\n",
              "       0.49494949, 0.11111111, 0.4040404 , 0.65656566, 0.44444444,\n",
              "       0.17171717, 0.14141414, 0.95959596, 0.47474747, 0.28282828,\n",
              "       0.37373737, 0.73737374, 0.19191919, 0.26262626, 0.15151515,\n",
              "       0.8989899 , 0.73737374, 0.94949495, 0.19191919, 0.8989899 ,\n",
              "       0.93939394, 0.56565657, 0.39393939, 0.58585859, 0.12121212,\n",
              "       0.48484848, 0.19191919, 0.44444444, 0.51515152, 0.19191919,\n",
              "       0.36363636, 0.57575758, 0.73737374, 0.97979798, 0.84848485,\n",
              "       0.74747475, 0.02020202, 1.        , 0.76767677, 0.12121212])"
            ]
          },
          "metadata": {},
          "execution_count": 3
        }
      ]
    },
    {
      "cell_type": "code",
      "source": [
        "X = np.random.randint(0, 100, (50, 2))"
      ],
      "metadata": {
        "id": "ZCTA43Nr_8H4"
      },
      "execution_count": 4,
      "outputs": []
    },
    {
      "cell_type": "code",
      "source": [
        "X[:10,:]"
      ],
      "metadata": {
        "colab": {
          "base_uri": "https://localhost:8080/"
        },
        "id": "Kah3ik7sAC7q",
        "outputId": "0c906c79-e958-45ea-a903-d00f34dd6e70"
      },
      "execution_count": 5,
      "outputs": [
        {
          "output_type": "execute_result",
          "data": {
            "text/plain": [
              "array([[26, 63],\n",
              "       [ 5, 56],\n",
              "       [69, 92],\n",
              "       [43, 38],\n",
              "       [ 7, 96],\n",
              "       [54, 73],\n",
              "       [78, 44],\n",
              "       [ 9, 31],\n",
              "       [63, 54],\n",
              "       [ 7, 24]])"
            ]
          },
          "metadata": {},
          "execution_count": 5
        }
      ]
    },
    {
      "cell_type": "code",
      "source": [
        "X = np.array(X, dtype=float)\n",
        "X"
      ],
      "metadata": {
        "colab": {
          "base_uri": "https://localhost:8080/"
        },
        "id": "R66u5CisANmK",
        "outputId": "d3b42e22-4d4d-4a69-d792-71ea8976fc33"
      },
      "execution_count": 6,
      "outputs": [
        {
          "output_type": "execute_result",
          "data": {
            "text/plain": [
              "array([[26., 63.],\n",
              "       [ 5., 56.],\n",
              "       [69., 92.],\n",
              "       [43., 38.],\n",
              "       [ 7., 96.],\n",
              "       [54., 73.],\n",
              "       [78., 44.],\n",
              "       [ 9., 31.],\n",
              "       [63., 54.],\n",
              "       [ 7., 24.],\n",
              "       [ 5.,  3.],\n",
              "       [53., 62.],\n",
              "       [10., 56.],\n",
              "       [ 4., 91.],\n",
              "       [35., 71.],\n",
              "       [78., 55.],\n",
              "       [19., 25.],\n",
              "       [28., 89.],\n",
              "       [88., 95.],\n",
              "       [29., 68.],\n",
              "       [19., 27.],\n",
              "       [68., 26.],\n",
              "       [26., 49.],\n",
              "       [53., 53.],\n",
              "       [37., 14.],\n",
              "       [ 2., 38.],\n",
              "       [84., 94.],\n",
              "       [15., 18.],\n",
              "       [22., 10.],\n",
              "       [48., 17.],\n",
              "       [19., 14.],\n",
              "       [71., 11.],\n",
              "       [33., 19.],\n",
              "       [59., 56.],\n",
              "       [32., 90.],\n",
              "       [10., 41.],\n",
              "       [56., 51.],\n",
              "       [82., 89.],\n",
              "       [20., 54.],\n",
              "       [73.,  6.],\n",
              "       [37., 94.],\n",
              "       [63., 39.],\n",
              "       [29., 86.],\n",
              "       [ 4., 40.],\n",
              "       [99., 54.],\n",
              "       [18., 57.],\n",
              "       [17.,  3.],\n",
              "       [11., 49.],\n",
              "       [74., 39.],\n",
              "       [97.,  0.]])"
            ]
          },
          "metadata": {},
          "execution_count": 6
        }
      ]
    },
    {
      "cell_type": "code",
      "source": [
        "# scaling first column\n",
        "X[:, 0] = (X[:,0] - np.min(X[:,0])) / (np.max(X[:,0]) - np.min(X[:,0]))"
      ],
      "metadata": {
        "id": "yYa-SMxUAZl1"
      },
      "execution_count": 7,
      "outputs": []
    },
    {
      "cell_type": "code",
      "source": [
        "# scaling second column\n",
        "X[:, 1] = (X[:,1] - np.min(X[:,1])) / (np.max(X[:,1]) - np.min(X[:,1]))"
      ],
      "metadata": {
        "id": "-HVrFK3TApzp"
      },
      "execution_count": 8,
      "outputs": []
    },
    {
      "cell_type": "code",
      "source": [
        "X[:10,:]"
      ],
      "metadata": {
        "colab": {
          "base_uri": "https://localhost:8080/"
        },
        "id": "6c4gqpIjAvto",
        "outputId": "f9207464-5719-4a3a-e166-e09a3070d363"
      },
      "execution_count": 9,
      "outputs": [
        {
          "output_type": "execute_result",
          "data": {
            "text/plain": [
              "array([[0.24742268, 0.65625   ],\n",
              "       [0.03092784, 0.58333333],\n",
              "       [0.69072165, 0.95833333],\n",
              "       [0.42268041, 0.39583333],\n",
              "       [0.05154639, 1.        ],\n",
              "       [0.53608247, 0.76041667],\n",
              "       [0.78350515, 0.45833333],\n",
              "       [0.07216495, 0.32291667],\n",
              "       [0.62886598, 0.5625    ],\n",
              "       [0.05154639, 0.25      ]])"
            ]
          },
          "metadata": {},
          "execution_count": 9
        }
      ]
    },
    {
      "cell_type": "code",
      "source": [
        "plt.scatter(X[:,0], X[:,1])\n",
        "plt.show()"
      ],
      "metadata": {
        "colab": {
          "base_uri": "https://localhost:8080/",
          "height": 265
        },
        "id": "4ABfCRCUA_Kj",
        "outputId": "0d9af17c-445e-4829-a71a-40ac4c6a0c07"
      },
      "execution_count": 10,
      "outputs": [
        {
          "output_type": "display_data",
          "data": {
            "image/png": "[encoded data removed]",
            "text/plain": [
              "<Figure size 432x288 with 1 Axes>"
            ]
          },
          "metadata": {
            "needs_background": "light"
          }
        }
      ]
    },
    {
      "cell_type": "code",
      "source": [
        "np.mean(X[:,0])"
      ],
      "metadata": {
        "colab": {
          "base_uri": "https://localhost:8080/"
        },
        "id": "NkFjVU5NBDs_",
        "outputId": "71d2e378-a50a-4f1a-c5ae-20cfbe85a87b"
      },
      "execution_count": 11,
      "outputs": [
        {
          "output_type": "execute_result",
          "data": {
            "text/plain": [
              "0.3892783505154639"
            ]
          },
          "metadata": {},
          "execution_count": 11
        }
      ]
    },
    {
      "cell_type": "code",
      "source": [
        "np.std(X[:,0])"
      ],
      "metadata": {
        "colab": {
          "base_uri": "https://localhost:8080/"
        },
        "id": "ae8hSK9PBJZN",
        "outputId": "88dadbde-108f-4a9c-8897-217cb14c4c7b"
      },
      "execution_count": 12,
      "outputs": [
        {
          "output_type": "execute_result",
          "data": {
            "text/plain": [
              "0.2901915178216334"
            ]
          },
          "metadata": {},
          "execution_count": 12
        }
      ]
    },
    {
      "cell_type": "code",
      "source": [
        "np.mean(X[:,1])"
      ],
      "metadata": {
        "colab": {
          "base_uri": "https://localhost:8080/"
        },
        "id": "Adt06ixPBOtE",
        "outputId": "830d96d7-8763-454a-a11d-afdb2a80a52e"
      },
      "execution_count": 13,
      "outputs": [
        {
          "output_type": "execute_result",
          "data": {
            "text/plain": [
              "0.505"
            ]
          },
          "metadata": {},
          "execution_count": 13
        }
      ]
    },
    {
      "cell_type": "code",
      "source": [
        "np.std(X[:,1])"
      ],
      "metadata": {
        "colab": {
          "base_uri": "https://localhost:8080/"
        },
        "id": "UwCO9iFaBOxw",
        "outputId": "c0695afd-0cca-4f7a-883b-3db10bddc401"
      },
      "execution_count": 14,
      "outputs": [
        {
          "output_type": "execute_result",
          "data": {
            "text/plain": [
              "0.2956736658322257"
            ]
          },
          "metadata": {},
          "execution_count": 14
        }
      ]
    },
    {
      "cell_type": "markdown",
      "source": [
        "## Standard Scaling (Standardization)\n",
        "### Normalize data into a distribution with a mean of 0 and a standard deviation of 1\n",
        "### Applicable to the situation where the data has not obvious boundaries and may contain outliers\n",
        "![image.png](data:image/png;base64,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)"
      ],
      "metadata": {
        "id": "bWrJONDgBcJs"
      }
    },
    {
      "cell_type": "code",
      "source": [
        "X2 = np.random.randint(0, 100, (50, 2))"
      ],
      "metadata": {
        "id": "QmmZxIhgBvMc"
      },
      "execution_count": 15,
      "outputs": []
    },
    {
      "cell_type": "code",
      "source": [
        "X2 = np.array(X2, dtype=float)"
      ],
      "metadata": {
        "id": "samtqZXLB1_7"
      },
      "execution_count": 16,
      "outputs": []
    },
    {
      "cell_type": "code",
      "source": [
        "# scaling first column\n",
        "X2[:,0] = (X2[:,0] - np.mean(X2[:,0])) / np.std(X2[:,0])"
      ],
      "metadata": {
        "id": "Wq9ETVNEB5AH"
      },
      "execution_count": 17,
      "outputs": []
    },
    {
      "cell_type": "code",
      "source": [
        "# scaling second column\n",
        "X2[:,1] = (X2[:,1] - np.mean(X2[:,1])) / np.std(X2[:,1])"
      ],
      "metadata": {
        "id": "UPjJtTr3CG4i"
      },
      "execution_count": 18,
      "outputs": []
    },
    {
      "cell_type": "code",
      "source": [
        "plt.scatter(X2[:,0], X2[:,1])\n",
        "plt.show()"
      ],
      "metadata": {
        "colab": {
          "base_uri": "https://localhost:8080/",
          "height": 265
        },
        "id": "ivp8zF6wCKkK",
        "outputId": "9142f355-ccf4-4738-daec-80e09d8f0517"
      },
      "execution_count": 19,
      "outputs": [
        {
          "output_type": "display_data",
          "data": {
            "image/png": "[encoded data removed]",
            "text/plain": [
              "<Figure size 432x288 with 1 Axes>"
            ]
          },
          "metadata": {
            "needs_background": "light"
          }
        }
      ]
    },
    {
      "cell_type": "code",
      "source": [
        "np.mean(X2[:,0])"
      ],
      "metadata": {
        "colab": {
          "base_uri": "https://localhost:8080/"
        },
        "id": "YEM-Mm8OCXEB",
        "outputId": "8c48f46d-7cc1-40f9-a1cd-8d776d3e2d24"
      },
      "execution_count": 20,
      "outputs": [
        {
          "output_type": "execute_result",
          "data": {
            "text/plain": [
              "6.661338147750939e-17"
            ]
          },
          "metadata": {},
          "execution_count": 20
        }
      ]
    },
    {
      "cell_type": "code",
      "source": [
        "np.std(X2[:,0])"
      ],
      "metadata": {
        "colab": {
          "base_uri": "https://localhost:8080/"
        },
        "id": "jT1N9_rZCdce",
        "outputId": "2d45f2cb-6a9c-48b9-84a4-0a2e1e123b96"
      },
      "execution_count": 21,
      "outputs": [
        {
          "output_type": "execute_result",
          "data": {
            "text/plain": [
              "1.0"
            ]
          },
          "metadata": {},
          "execution_count": 21
        }
      ]
    },
    {
      "cell_type": "code",
      "source": [
        "np.mean(X2[:,1])"
      ],
      "metadata": {
        "colab": {
          "base_uri": "https://localhost:8080/"
        },
        "id": "mOAnVQLZCiSK",
        "outputId": "a55d2b2e-b01f-45b7-868a-44509a6c1d72"
      },
      "execution_count": 22,
      "outputs": [
        {
          "output_type": "execute_result",
          "data": {
            "text/plain": [
              "8.881784197001253e-18"
            ]
          },
          "metadata": {},
          "execution_count": 22
        }
      ]
    },
    {
      "cell_type": "code",
      "source": [
        "np.std(X2[:,1])"
      ],
      "metadata": {
        "colab": {
          "base_uri": "https://localhost:8080/"
        },
        "id": "8MSssWMACjmY",
        "outputId": "4f091f86-e225-4c3a-cc31-e5cecee6fb6b"
      },
      "execution_count": 23,
      "outputs": [
        {
          "output_type": "execute_result",
          "data": {
            "text/plain": [
              "1.0"
            ]
          },
          "metadata": {},
          "execution_count": 23
        }
      ]
    }
  ]
}