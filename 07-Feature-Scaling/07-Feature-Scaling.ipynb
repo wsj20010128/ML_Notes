{
  "nbformat": 4,
  "nbformat_minor": 0,
  "metadata": {
    "colab": {
      "name": "07-Feature-Scaling.ipynb",
      "provenance": [],
      "authorship_tag": "ABX9TyOi029+CyBVUJ8vjmPildRx",
      "include_colab_link": true
    },
    "kernelspec": {
      "name": "python3",
      "display_name": "Python 3"
    },
    "language_info": {
      "name": "python"
    }
  },
  "cells": [
    {
      "cell_type": "markdown",
      "metadata": {
        "id": "view-in-github",
        "colab_type": "text"
      },
      "source": [
        "<a href=\"https://colab.research.google.com/github/wsj20010128/ML_Notes/blob/main/07-Feature-Scaling/07-Feature-Scaling.ipynb\" target=\"_parent\"><img src=\"https://colab.research.google.com/assets/colab-badge.svg\" alt=\"Open In Colab\"/></a>"
      ]
    },
    {
      "cell_type": "markdown",
      "source": [
        "# Feature Scaling"
      ],
      "metadata": {
        "id": "slblZ20f_H9m"
      }
    },
    {
      "cell_type": "code",
      "source": [
        "import numpy as np\n",
        "import matplotlib.pyplot as plt"
      ],
      "metadata": {
        "id": "-2k-YhAK_Pqj"
      },
      "execution_count": 1,
      "outputs": []
    },
    {
      "cell_type": "markdown",
      "source": [
        "## Min-Max Scaling (Normalization)"
      ],
      "metadata": {
        "id": "UFQjJHJF_bkS"
      }
    },
    {
      "cell_type": "code",
      "source": [
        "x = np.random.randint(0, 100, size=100)\n",
        "x"
      ],
      "metadata": {
        "colab": {
          "base_uri": "https://localhost:8080/"
        },
        "id": "F48bGrBK_ffs",
        "outputId": "84318f1f-1a81-4447-8d3b-fb6f5355fc7a"
      },
      "execution_count": 2,
      "outputs": [
        {
          "output_type": "execute_result",
          "data": {
            "text/plain": [
              "array([75,  6,  9, 81, 77, 41,  3,  1,  1, 59,  3, 54, 66, 70, 53, 46, 55,\n",
              "       66,  9, 30, 84, 71, 71, 90,  9, 22, 33, 92, 28, 63, 64, 74, 92, 79,\n",
              "       51, 38, 73, 94, 48, 96, 16, 53, 31, 88, 30, 23, 77,  6, 25, 96, 13,\n",
              "       43, 48, 21, 10, 25, 59, 92, 66, 23, 89, 63, 80,  4, 90, 38, 97, 53,\n",
              "       86, 90, 79,  6, 29, 72, 30, 41,  3, 65, 22, 42,  5,  7, 74, 27, 13,\n",
              "       75, 85, 20, 98, 17, 57, 96, 47, 15, 43, 59, 55, 99, 36, 40])"
            ]
          },
          "metadata": {},
          "execution_count": 2
        }
      ]
    },
    {
      "cell_type": "code",
      "source": [
        "(x - np.min(x)) / (np.max(x) - np.min(x))"
      ],
      "metadata": {
        "colab": {
          "base_uri": "https://localhost:8080/"
        },
        "id": "8-7m5xW-_xty",
        "outputId": "84af78ad-9298-4df3-cb62-625e9e7ff134"
      },
      "execution_count": 3,
      "outputs": [
        {
          "output_type": "execute_result",
          "data": {
            "text/plain": [
              "array([0.75510204, 0.05102041, 0.08163265, 0.81632653, 0.7755102 ,\n",
              "       0.40816327, 0.02040816, 0.        , 0.        , 0.59183673,\n",
              "       0.02040816, 0.54081633, 0.66326531, 0.70408163, 0.53061224,\n",
              "       0.45918367, 0.55102041, 0.66326531, 0.08163265, 0.29591837,\n",
              "       0.84693878, 0.71428571, 0.71428571, 0.90816327, 0.08163265,\n",
              "       0.21428571, 0.32653061, 0.92857143, 0.2755102 , 0.63265306,\n",
              "       0.64285714, 0.74489796, 0.92857143, 0.79591837, 0.51020408,\n",
              "       0.37755102, 0.73469388, 0.94897959, 0.47959184, 0.96938776,\n",
              "       0.15306122, 0.53061224, 0.30612245, 0.8877551 , 0.29591837,\n",
              "       0.2244898 , 0.7755102 , 0.05102041, 0.24489796, 0.96938776,\n",
              "       0.12244898, 0.42857143, 0.47959184, 0.20408163, 0.09183673,\n",
              "       0.24489796, 0.59183673, 0.92857143, 0.66326531, 0.2244898 ,\n",
              "       0.89795918, 0.63265306, 0.80612245, 0.03061224, 0.90816327,\n",
              "       0.37755102, 0.97959184, 0.53061224, 0.86734694, 0.90816327,\n",
              "       0.79591837, 0.05102041, 0.28571429, 0.7244898 , 0.29591837,\n",
              "       0.40816327, 0.02040816, 0.65306122, 0.21428571, 0.41836735,\n",
              "       0.04081633, 0.06122449, 0.74489796, 0.26530612, 0.12244898,\n",
              "       0.75510204, 0.85714286, 0.19387755, 0.98979592, 0.16326531,\n",
              "       0.57142857, 0.96938776, 0.46938776, 0.14285714, 0.42857143,\n",
              "       0.59183673, 0.55102041, 1.        , 0.35714286, 0.39795918])"
            ]
          },
          "metadata": {},
          "execution_count": 3
        }
      ]
    },
    {
      "cell_type": "code",
      "source": [
        "X = np.random.randint(0, 100, (50, 2))"
      ],
      "metadata": {
        "id": "ZCTA43Nr_8H4"
      },
      "execution_count": 4,
      "outputs": []
    },
    {
      "cell_type": "code",
      "source": [
        "X[:10,:]"
      ],
      "metadata": {
        "colab": {
          "base_uri": "https://localhost:8080/"
        },
        "id": "Kah3ik7sAC7q",
        "outputId": "81e63e54-abfe-417f-e1ed-5f8a96013f7d"
      },
      "execution_count": 9,
      "outputs": [
        {
          "output_type": "execute_result",
          "data": {
            "text/plain": [
              "array([[0.62765957, 0.62244898],\n",
              "       [0.26595745, 0.36734694],\n",
              "       [0.18085106, 0.09183673],\n",
              "       [0.29787234, 0.62244898],\n",
              "       [0.25531915, 0.97959184],\n",
              "       [0.79787234, 0.78571429],\n",
              "       [0.        , 0.24489796],\n",
              "       [0.57446809, 0.73469388],\n",
              "       [0.38297872, 0.58163265],\n",
              "       [0.94680851, 0.32653061]])"
            ]
          },
          "metadata": {},
          "execution_count": 9
        }
      ]
    },
    {
      "cell_type": "code",
      "source": [
        "X = np.array(X, dtype=float)\n",
        "X"
      ],
      "metadata": {
        "colab": {
          "base_uri": "https://localhost:8080/"
        },
        "id": "R66u5CisANmK",
        "outputId": "538b5a93-f48f-4fd9-9752-8ecb30bae71d"
      },
      "execution_count": 10,
      "outputs": [
        {
          "output_type": "execute_result",
          "data": {
            "text/plain": [
              "array([[0.62765957, 0.62244898],\n",
              "       [0.26595745, 0.36734694],\n",
              "       [0.18085106, 0.09183673],\n",
              "       [0.29787234, 0.62244898],\n",
              "       [0.25531915, 0.97959184],\n",
              "       [0.79787234, 0.78571429],\n",
              "       [0.        , 0.24489796],\n",
              "       [0.57446809, 0.73469388],\n",
              "       [0.38297872, 0.58163265],\n",
              "       [0.94680851, 0.32653061],\n",
              "       [0.5       , 0.66326531],\n",
              "       [0.17021277, 0.2244898 ],\n",
              "       [0.64893617, 0.14285714],\n",
              "       [0.77659574, 0.69387755],\n",
              "       [0.05319149, 0.97959184],\n",
              "       [0.71276596, 0.04081633],\n",
              "       [0.32978723, 0.83673469],\n",
              "       [0.34042553, 0.39795918],\n",
              "       [0.03191489, 0.46938776],\n",
              "       [0.31914894, 0.        ],\n",
              "       [0.67021277, 0.87755102],\n",
              "       [0.62765957, 0.71428571],\n",
              "       [0.41489362, 0.2755102 ],\n",
              "       [0.21276596, 0.8877551 ],\n",
              "       [0.76595745, 0.55102041],\n",
              "       [0.29787234, 0.66326531],\n",
              "       [0.58510638, 0.20408163],\n",
              "       [0.0106383 , 0.15306122],\n",
              "       [0.28723404, 0.90816327],\n",
              "       [0.18085106, 0.08163265],\n",
              "       [0.20212766, 0.09183673],\n",
              "       [0.35106383, 0.12244898],\n",
              "       [0.93617021, 0.62244898],\n",
              "       [0.26595745, 0.58163265],\n",
              "       [0.26595745, 0.17346939],\n",
              "       [0.29787234, 0.47959184],\n",
              "       [0.28723404, 0.17346939],\n",
              "       [0.67021277, 0.93877551],\n",
              "       [0.06382979, 0.73469388],\n",
              "       [0.32978723, 0.92857143],\n",
              "       [0.96808511, 0.20408163],\n",
              "       [1.        , 0.14285714],\n",
              "       [0.        , 1.        ],\n",
              "       [0.46808511, 0.81632653],\n",
              "       [0.5106383 , 0.48979592],\n",
              "       [0.70212766, 0.80612245],\n",
              "       [0.76595745, 0.10204082],\n",
              "       [0.96808511, 0.53061224],\n",
              "       [0.31914894, 0.76530612],\n",
              "       [0.31914894, 0.1122449 ]])"
            ]
          },
          "metadata": {},
          "execution_count": 10
        }
      ]
    },
    {
      "cell_type": "code",
      "source": [
        "X[:, 0] = (X[:,0] - np.min(X[:,0])) / (np.max(X[:,0]) - np.min(X[:,0]))"
      ],
      "metadata": {
        "id": "yYa-SMxUAZl1"
      },
      "execution_count": 11,
      "outputs": []
    },
    {
      "cell_type": "code",
      "source": [
        "X[:, 1] = (X[:,1] - np.min(X[:,1])) / (np.max(X[:,1]) - np.min(X[:,1]))"
      ],
      "metadata": {
        "id": "-HVrFK3TApzp"
      },
      "execution_count": 12,
      "outputs": []
    },
    {
      "cell_type": "code",
      "source": [
        "X[:10,:]"
      ],
      "metadata": {
        "colab": {
          "base_uri": "https://localhost:8080/"
        },
        "id": "6c4gqpIjAvto",
        "outputId": "9cbc2907-8a7f-4e73-a6e6-2a66a23c33dd"
      },
      "execution_count": 13,
      "outputs": [
        {
          "output_type": "execute_result",
          "data": {
            "text/plain": [
              "array([[0.62765957, 0.62244898],\n",
              "       [0.26595745, 0.36734694],\n",
              "       [0.18085106, 0.09183673],\n",
              "       [0.29787234, 0.62244898],\n",
              "       [0.25531915, 0.97959184],\n",
              "       [0.79787234, 0.78571429],\n",
              "       [0.        , 0.24489796],\n",
              "       [0.57446809, 0.73469388],\n",
              "       [0.38297872, 0.58163265],\n",
              "       [0.94680851, 0.32653061]])"
            ]
          },
          "metadata": {},
          "execution_count": 13
        }
      ]
    },
    {
      "cell_type": "code",
      "source": [
        "plt.scatter(X[:,0], X[:,1])\n",
        "plt.show()"
      ],
      "metadata": {
        "colab": {
          "base_uri": "https://localhost:8080/",
          "height": 265
        },
        "id": "4ABfCRCUA_Kj",
        "outputId": "48a0a694-1903-4442-f92c-ec2fb1065924"
      },
      "execution_count": 14,
      "outputs": [
        {
          "output_type": "display_data",
          "data": {
            "image/png": "[encoded data removed]",
            "text/plain": [
              "<Figure size 432x288 with 1 Axes>"
            ]
          },
          "metadata": {
            "needs_background": "light"
          }
        }
      ]
    },
    {
      "cell_type": "code",
      "source": [
        "np.mean(X[:,0])"
      ],
      "metadata": {
        "colab": {
          "base_uri": "https://localhost:8080/"
        },
        "id": "NkFjVU5NBDs_",
        "outputId": "d4dea909-52f2-4fb4-d2ae-5db39aa73a29"
      },
      "execution_count": 15,
      "outputs": [
        {
          "output_type": "execute_result",
          "data": {
            "text/plain": [
              "0.4391489361702127"
            ]
          },
          "metadata": {},
          "execution_count": 15
        }
      ]
    },
    {
      "cell_type": "code",
      "source": [
        "np.std(X[:,0])"
      ],
      "metadata": {
        "colab": {
          "base_uri": "https://localhost:8080/"
        },
        "id": "ae8hSK9PBJZN",
        "outputId": "a6ad3736-338f-4406-c56f-52998c1fc6b0"
      },
      "execution_count": 16,
      "outputs": [
        {
          "output_type": "execute_result",
          "data": {
            "text/plain": [
              "0.27951843734007525"
            ]
          },
          "metadata": {},
          "execution_count": 16
        }
      ]
    },
    {
      "cell_type": "code",
      "source": [
        "np.mean(X[:,1])"
      ],
      "metadata": {
        "colab": {
          "base_uri": "https://localhost:8080/"
        },
        "id": "Adt06ixPBOtE",
        "outputId": "567f4a6b-3440-463a-8a7c-de150aff49d1"
      },
      "execution_count": 17,
      "outputs": [
        {
          "output_type": "execute_result",
          "data": {
            "text/plain": [
              "0.4987755102040816"
            ]
          },
          "metadata": {},
          "execution_count": 17
        }
      ]
    },
    {
      "cell_type": "code",
      "source": [
        "np.std(X[:,1])"
      ],
      "metadata": {
        "colab": {
          "base_uri": "https://localhost:8080/"
        },
        "id": "UwCO9iFaBOxw",
        "outputId": "e5285748-60cf-44d5-827a-b794862085eb"
      },
      "execution_count": 18,
      "outputs": [
        {
          "output_type": "execute_result",
          "data": {
            "text/plain": [
              "0.308181105038429"
            ]
          },
          "metadata": {},
          "execution_count": 18
        }
      ]
    },
    {
      "cell_type": "markdown",
      "source": [
        "## Standard Scaling (Standardization)"
      ],
      "metadata": {
        "id": "bWrJONDgBcJs"
      }
    },
    {
      "cell_type": "code",
      "source": [
        "X2 = np.random.randint(0, 100, (50, 2))"
      ],
      "metadata": {
        "id": "QmmZxIhgBvMc"
      },
      "execution_count": 19,
      "outputs": []
    },
    {
      "cell_type": "code",
      "source": [
        "X2 = np.array(X2, dtype=float)"
      ],
      "metadata": {
        "id": "samtqZXLB1_7"
      },
      "execution_count": 20,
      "outputs": []
    },
    {
      "cell_type": "code",
      "source": [
        "X2[:,0] = (X2[:,0] - np.mean(X2[:,0])) / np.std(X2[:,0])"
      ],
      "metadata": {
        "id": "Wq9ETVNEB5AH"
      },
      "execution_count": 21,
      "outputs": []
    },
    {
      "cell_type": "code",
      "source": [
        "X2[:,1] = (X2[:,1] - np.mean(X2[:,1])) / np.std(X2[:,1])"
      ],
      "metadata": {
        "id": "UPjJtTr3CG4i"
      },
      "execution_count": 22,
      "outputs": []
    },
    {
      "cell_type": "code",
      "source": [
        "plt.scatter(X2[:,0], X2[:,1])\n",
        "plt.show()"
      ],
      "metadata": {
        "colab": {
          "base_uri": "https://localhost:8080/",
          "height": 265
        },
        "id": "ivp8zF6wCKkK",
        "outputId": "4f1d29ab-32e0-4621-d4ee-9e448a6f0f62"
      },
      "execution_count": 23,
      "outputs": [
        {
          "output_type": "display_data",
          "data": {
            "image/png": "[encoded data removed]",
            "text/plain": [
              "<Figure size 432x288 with 1 Axes>"
            ]
          },
          "metadata": {
            "needs_background": "light"
          }
        }
      ]
    },
    {
      "cell_type": "code",
      "source": [
        "np.mean(X2[:,0])"
      ],
      "metadata": {
        "colab": {
          "base_uri": "https://localhost:8080/"
        },
        "id": "YEM-Mm8OCXEB",
        "outputId": "de7de6b8-e86e-4417-d746-cf494d536e89"
      },
      "execution_count": 24,
      "outputs": [
        {
          "output_type": "execute_result",
          "data": {
            "text/plain": [
              "9.506284648352902e-17"
            ]
          },
          "metadata": {},
          "execution_count": 24
        }
      ]
    },
    {
      "cell_type": "code",
      "source": [
        "np.std(X2[:,0])"
      ],
      "metadata": {
        "colab": {
          "base_uri": "https://localhost:8080/"
        },
        "id": "jT1N9_rZCdce",
        "outputId": "174b8de7-0385-4337-c34f-d016a10085d8"
      },
      "execution_count": 25,
      "outputs": [
        {
          "output_type": "execute_result",
          "data": {
            "text/plain": [
              "0.9999999999999998"
            ]
          },
          "metadata": {},
          "execution_count": 25
        }
      ]
    },
    {
      "cell_type": "code",
      "source": [
        "np.mean(X2[:,1])"
      ],
      "metadata": {
        "colab": {
          "base_uri": "https://localhost:8080/"
        },
        "id": "mOAnVQLZCiSK",
        "outputId": "5ee7a8e8-d399-4d41-f1c0-6e80763af2b1"
      },
      "execution_count": 26,
      "outputs": [
        {
          "output_type": "execute_result",
          "data": {
            "text/plain": [
              "-2.4424906541753444e-17"
            ]
          },
          "metadata": {},
          "execution_count": 26
        }
      ]
    },
    {
      "cell_type": "code",
      "source": [
        "np.std(X2[:,1])"
      ],
      "metadata": {
        "colab": {
          "base_uri": "https://localhost:8080/"
        },
        "id": "8MSssWMACjmY",
        "outputId": "22bf912c-6a78-4d32-8369-fda3012ce306"
      },
      "execution_count": 27,
      "outputs": [
        {
          "output_type": "execute_result",
          "data": {
            "text/plain": [
              "0.9999999999999999"
            ]
          },
          "metadata": {},
          "execution_count": 27
        }
      ]
    }
  ]
}