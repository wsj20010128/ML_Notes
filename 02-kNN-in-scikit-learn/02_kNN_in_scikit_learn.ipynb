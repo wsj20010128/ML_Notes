{
  "nbformat": 4,
  "nbformat_minor": 0,
  "metadata": {
    "colab": {
      "name": "02-kNN-in-Scikit-Learn.ipynb",
      "provenance": [],
      "authorship_tag": "ABX9TyMNt9EDAnSb7oaSohKvYE8F",
      "include_colab_link": true
    },
    "kernelspec": {
      "name": "python3",
      "display_name": "Python 3"
    },
    "language_info": {
      "name": "python"
    }
  },
  "cells": [
    {
      "cell_type": "markdown",
      "metadata": {
        "id": "view-in-github",
        "colab_type": "text"
      },
      "source": [
        "<a href=\"https://colab.research.google.com/github/wsj20010128/ML_Notes/blob/main/02_kNN_in_scikit_learn/02_kNN_in_scikit_learn.ipynb\" target=\"_parent\"><img src=\"https://colab.research.google.com/assets/colab-badge.svg\" alt=\"Open In Colab\"/></a>"
      ]
    },
    {
      "cell_type": "code",
      "execution_count": null,
      "metadata": {
        "id": "cpJCziINqsg-"
      },
      "outputs": [],
      "source": [
        ""
      ]
    }
  ]
}