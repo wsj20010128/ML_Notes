{
  "nbformat": 4,
  "nbformat_minor": 0,
  "metadata": {
    "colab": {
      "name": "05-Hyper-Parameters.ipynb",
      "provenance": [],
      "authorship_tag": "ABX9TyOwvrm29+orGTsF+FOnafMH",
      "include_colab_link": true
    },
    "kernelspec": {
      "name": "python3",
      "display_name": "Python 3"
    },
    "language_info": {
      "name": "python"
    }
  },
  "cells": [
    {
      "cell_type": "markdown",
      "metadata": {
        "id": "view-in-github",
        "colab_type": "text"
      },
      "source": [
        "<a href=\"https://colab.research.google.com/github/wsj20010128/ML_Notes/blob/main/05-Hyper-Parameters/05-Hyper-Parameters.ipynb\" target=\"_parent\"><img src=\"https://colab.research.google.com/assets/colab-badge.svg\" alt=\"Open In Colab\"/></a>"
      ]
    },
    {
      "cell_type": "markdown",
      "source": [
        "# Hyper Parameterrs"
      ],
      "metadata": {
        "id": "nDIxAQ4_kMkG"
      }
    },
    {
      "cell_type": "code",
      "source": [
        "import numpy as np\n",
        "from sklearn import datasets"
      ],
      "metadata": {
        "id": "64nF4xD1kP-i"
      },
      "execution_count": 1,
      "outputs": []
    },
    {
      "cell_type": "code",
      "source": [
        "digits = datasets.load_digits()\n",
        "X = digits.data\n",
        "y = digits.target"
      ],
      "metadata": {
        "id": "swp1weYSrKLx"
      },
      "execution_count": 2,
      "outputs": []
    },
    {
      "cell_type": "code",
      "source": [
        "from sklearn.model_selection import train_test_split\n",
        "X_train, X_test, y_train, y_test = train_test_split(X, y, test_size=0.2, random_state=666)"
      ],
      "metadata": {
        "id": "DTBFK3TJrV6Z"
      },
      "execution_count": 3,
      "outputs": []
    },
    {
      "cell_type": "code",
      "source": [
        "from sklearn.neighbors import KNeighborsClassifier\n",
        "knn_clf = KNeighborsClassifier(n_neighbors=3)\n",
        "knn_clf.fit(X_train, y_train)\n",
        "knn_clf.score(X_test, y_test)"
      ],
      "metadata": {
        "colab": {
          "base_uri": "https://localhost:8080/"
        },
        "id": "fWDbjok7rlal",
        "outputId": "45b81133-cdc7-441b-9b50-de686493fce2"
      },
      "execution_count": 4,
      "outputs": [
        {
          "output_type": "execute_result",
          "data": {
            "text/plain": [
              "0.9916666666666667"
            ]
          },
          "metadata": {},
          "execution_count": 4
        }
      ]
    },
    {
      "cell_type": "markdown",
      "source": [
        "## Find the best k"
      ],
      "metadata": {
        "id": "zi-4tmser_Xr"
      }
    },
    {
      "cell_type": "code",
      "source": [
        "best_score = 0.0\n",
        "best_k = -1\n",
        "\n",
        "for k in range(1, 11):\n",
        "  knn_clf = KNeighborsClassifier(n_neighbors=k)\n",
        "  knn_clf.fit(X_train, y_train)\n",
        "  score = knn_clf.score(X_test, y_test)\n",
        "  if score > best_score:\n",
        "    best_k = k\n",
        "    best_score = score\n",
        "\n",
        "print(\"best_k =\", best_k)\n",
        "print(\"best_score =\", best_score)"
      ],
      "metadata": {
        "colab": {
          "base_uri": "https://localhost:8080/"
        },
        "id": "HatMOnFSsCQO",
        "outputId": "23f46502-6202-442d-fbf1-d4f0265ff815"
      },
      "execution_count": 5,
      "outputs": [
        {
          "output_type": "stream",
          "name": "stdout",
          "text": [
            "best_k = 3\n",
            "best_score = 0.9916666666666667\n"
          ]
        }
      ]
    },
    {
      "cell_type": "markdown",
      "source": [
        "## Consider Distance"
      ],
      "metadata": {
        "id": "mHCWcxoAtjlL"
      }
    },
    {
      "cell_type": "code",
      "source": [
        "best_method = \"\"\n",
        "best_score = 0.0\n",
        "best_k = -1\n",
        "\n",
        "for method in [\"uniform\", \"distance\"]:\n",
        "  for k in range(1, 11):\n",
        "    knn_clf = KNeighborsClassifier(n_neighbors=k, weights=method)\n",
        "    knn_clf.fit(X_train, y_train)\n",
        "    score = knn_clf.score(X_test, y_test)\n",
        "    if score > best_score:\n",
        "      best_k = k\n",
        "      best_score = score\n",
        "      best_method = method\n",
        "\n",
        "print(\"best_method =\", best_method)\n",
        "print(\"best_k =\", best_k)\n",
        "print(\"best_score =\", best_score)"
      ],
      "metadata": {
        "colab": {
          "base_uri": "https://localhost:8080/"
        },
        "id": "scSgljqVtnA1",
        "outputId": "c5ee214e-1ee0-452d-848c-bcaf4d54ff6a"
      },
      "execution_count": 7,
      "outputs": [
        {
          "output_type": "stream",
          "name": "stdout",
          "text": [
            "best_method = uniform\n",
            "best_k = 3\n",
            "best_score = 0.9916666666666667\n"
          ]
        }
      ]
    },
    {
      "cell_type": "markdown",
      "source": [
        "## Minkowski Distance\n",
        "![image.png](data:image/png;base64,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)"
      ],
      "metadata": {
        "id": "BLpgSD0N0IX7"
      }
    },
    {
      "cell_type": "markdown",
      "source": [
        "## Search best p for Minkowski Distance"
      ],
      "metadata": {
        "id": "ZnFbTHin0ovL"
      }
    },
    {
      "cell_type": "code",
      "source": [
        "%%time\n",
        "\n",
        "best_p = -1\n",
        "best_score = 0.0\n",
        "best_k = -1\n",
        "\n",
        "for k in range(1, 11):\n",
        "  for p in range(1, 6):\n",
        "    knn_clf = KNeighborsClassifier(n_neighbors=k, weights=\"distance\", p=p)\n",
        "    knn_clf.fit(X_train, y_train)\n",
        "    score = knn_clf.score(X_test, y_test)\n",
        "    if score > best_score:\n",
        "      best_k = k\n",
        "      best_score = score\n",
        "      best_p = p\n",
        "\n",
        "print(\"best_p =\", best_p)\n",
        "print(\"best_k =\", best_k)\n",
        "print(\"best_score =\", best_score)"
      ],
      "metadata": {
        "colab": {
          "base_uri": "https://localhost:8080/"
        },
        "id": "Td146ckA0R_b",
        "outputId": "789e76fb-fd93-4c60-ab06-0ba3d03cc8f0"
      },
      "execution_count": 9,
      "outputs": [
        {
          "output_type": "stream",
          "name": "stdout",
          "text": [
            "best_p = 2\n",
            "best_k = 3\n",
            "best_score = 0.9916666666666667\n",
            "CPU times: user 49.9 s, sys: 1.07 s, total: 51 s\n",
            "Wall time: 49.9 s\n"
          ]
        }
      ]
    }
  ]
}