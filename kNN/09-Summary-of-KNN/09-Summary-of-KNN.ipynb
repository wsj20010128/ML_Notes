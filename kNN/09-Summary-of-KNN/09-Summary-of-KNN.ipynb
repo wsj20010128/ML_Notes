{
  "nbformat": 4,
  "nbformat_minor": 0,
  "metadata": {
    "colab": {
      "name": "09-Summary-of-KNN.ipynb",
      "provenance": [],
      "authorship_tag": "ABX9TyNarcvp99uiu+33sfb4hJFA",
      "include_colab_link": true
    },
    "kernelspec": {
      "name": "python3",
      "display_name": "Python 3"
    },
    "language_info": {
      "name": "python"
    }
  },
  "cells": [
    {
      "cell_type": "markdown",
      "metadata": {
        "id": "view-in-github",
        "colab_type": "text"
      },
      "source": [
        "<a href=\"https://colab.research.google.com/github/wsj20010128/ML_Notes/blob/main/09-Summary-of-KNN/09-Summary-of-KNN.ipynb\" target=\"_parent\"><img src=\"https://colab.research.google.com/assets/colab-badge.svg\" alt=\"Open In Colab\"/></a>"
      ]
    },
    {
      "cell_type": "markdown",
      "source": [
        "## KNN is a classification method\n",
        "## KNN can solve multiclass classification problems\n",
        "## KNN can also be used for regression\n",
        "### KNeighborsRegressor: https://scikit-learn.org/stable/modules/generated/sklearn.neighbors.KNeighborsRegressor.html\n",
        "\n",
        "## Biggest disadvantage: low efficiency\n",
        "### If training set has m samples and n features, it will take O(m*n) to predict each new data\n",
        "### Optimization (using tree structure): KD-Tree, Ball-Tree\n",
        "## Disadvantage2: Highly related to data\n",
        "## Disadvantage3: The predicting outcomes are not interpretable\n",
        "## Disadvantage4: Curse of dimensionality\n"
      ],
      "metadata": {
        "id": "cWBuaaeKn2Dv"
      }
    }
  ]
}