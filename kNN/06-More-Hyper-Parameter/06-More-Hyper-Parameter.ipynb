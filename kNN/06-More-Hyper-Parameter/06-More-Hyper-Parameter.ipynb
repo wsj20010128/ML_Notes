{
  "nbformat": 4,
  "nbformat_minor": 0,
  "metadata": {
    "colab": {
      "name": "06-More-Hyper-Parameter.ipynb",
      "provenance": [],
      "authorship_tag": "ABX9TyMMvFKEdquozKBHv8O4VmLA",
      "include_colab_link": true
    },
    "kernelspec": {
      "name": "python3",
      "display_name": "Python 3"
    },
    "language_info": {
      "name": "python"
    }
  },
  "cells": [
    {
      "cell_type": "markdown",
      "metadata": {
        "id": "view-in-github",
        "colab_type": "text"
      },
      "source": [
        "<a href=\"https://colab.research.google.com/github/wsj20010128/ML_Notes/blob/main/06-More-Hyper-Parameter/06-More-Hyper-Parameter.ipynb\" target=\"_parent\"><img src=\"https://colab.research.google.com/assets/colab-badge.svg\" alt=\"Open In Colab\"/></a>"
      ]
    },
    {
      "cell_type": "markdown",
      "source": [
        "# Grid Search"
      ],
      "metadata": {
        "id": "Awx-raQp2TGZ"
      }
    },
    {
      "cell_type": "code",
      "source": [
        "import numpy as np\n",
        "from sklearn import datasets"
      ],
      "metadata": {
        "id": "vcrjaPS-2WR0"
      },
      "execution_count": 1,
      "outputs": []
    },
    {
      "cell_type": "code",
      "source": [
        "digits = datasets.load_digits()\n",
        "X = digits.data\n",
        "y = digits.target"
      ],
      "metadata": {
        "id": "cdrDjwRu2ewe"
      },
      "execution_count": 2,
      "outputs": []
    },
    {
      "cell_type": "code",
      "source": [
        "from sklearn.model_selection import train_test_split\n",
        "X_train, X_test, y_train, y_test = train_test_split(X, y, test_size=0.2, random_state=666)"
      ],
      "metadata": {
        "id": "MAJKhpMj2nC0"
      },
      "execution_count": 3,
      "outputs": []
    },
    {
      "cell_type": "code",
      "source": [
        "from sklearn.neighbors import KNeighborsClassifier\n",
        "sk_knn_clf = KNeighborsClassifier(n_neighbors=4, weights=\"uniform\")\n",
        "sk_knn_clf.fit(X_train, y_train)\n",
        "sk_knn_clf.score(X_test, y_test)"
      ],
      "metadata": {
        "colab": {
          "base_uri": "https://localhost:8080/"
        },
        "id": "OEyye5Gn2zPl",
        "outputId": "b1f1c419-7903-4211-8051-4a80508709b6"
      },
      "execution_count": 4,
      "outputs": [
        {
          "output_type": "execute_result",
          "data": {
            "text/plain": [
              "0.9916666666666667"
            ]
          },
          "metadata": {},
          "execution_count": 4
        }
      ]
    },
    {
      "cell_type": "code",
      "source": [
        "param_grid = [\n",
        "    {\n",
        "        'weights': ['uniform'], \n",
        "        'n_neighbors': [i for i in range(1, 11)]\n",
        "    },\n",
        "    {\n",
        "        'weights': ['distance'],\n",
        "        'n_neighbors': [i for i in range(1, 11)], \n",
        "        'p': [i for i in range(1, 6)]\n",
        "    }\n",
        "]"
      ],
      "metadata": {
        "id": "zmKclskd3KTO"
      },
      "execution_count": 5,
      "outputs": []
    },
    {
      "cell_type": "code",
      "source": [
        "knn_clf = KNeighborsClassifier()"
      ],
      "metadata": {
        "id": "DuExTva13qLr"
      },
      "execution_count": 6,
      "outputs": []
    },
    {
      "cell_type": "code",
      "source": [
        "from sklearn.model_selection import GridSearchCV\n",
        "\n",
        "grid_search = GridSearchCV(knn_clf, param_grid)"
      ],
      "metadata": {
        "id": "CDW3hNFm3wLI"
      },
      "execution_count": 7,
      "outputs": []
    },
    {
      "cell_type": "code",
      "source": [
        "%%time\n",
        "grid_search.fit(X_train, y_train)"
      ],
      "metadata": {
        "colab": {
          "base_uri": "https://localhost:8080/"
        },
        "id": "B3lyatVh4Ab9",
        "outputId": "646b6731-bd4e-4ede-ad59-b3d48101fce7"
      },
      "execution_count": 8,
      "outputs": [
        {
          "output_type": "stream",
          "name": "stdout",
          "text": [
            "CPU times: user 2min 46s, sys: 2.88 s, total: 2min 49s\n",
            "Wall time: 2min 51s\n"
          ]
        },
        {
          "output_type": "execute_result",
          "data": {
            "text/plain": [
              "GridSearchCV(estimator=KNeighborsClassifier(),\n",
              "             param_grid=[{'n_neighbors': [1, 2, 3, 4, 5, 6, 7, 8, 9, 10],\n",
              "                          'weights': ['uniform']},\n",
              "                         {'n_neighbors': [1, 2, 3, 4, 5, 6, 7, 8, 9, 10],\n",
              "                          'p': [1, 2, 3, 4, 5], 'weights': ['distance']}])"
            ]
          },
          "metadata": {},
          "execution_count": 8
        }
      ]
    },
    {
      "cell_type": "code",
      "source": [
        "grid_search.best_estimator_"
      ],
      "metadata": {
        "colab": {
          "base_uri": "https://localhost:8080/"
        },
        "id": "IwgB_tJa40mj",
        "outputId": "81badbe0-1449-4ea9-d518-eeed9fd920a3"
      },
      "execution_count": 9,
      "outputs": [
        {
          "output_type": "execute_result",
          "data": {
            "text/plain": [
              "KNeighborsClassifier(n_neighbors=1)"
            ]
          },
          "metadata": {},
          "execution_count": 9
        }
      ]
    },
    {
      "cell_type": "code",
      "source": [
        "grid_search.best_score_"
      ],
      "metadata": {
        "colab": {
          "base_uri": "https://localhost:8080/"
        },
        "id": "t3EXKkK95H3z",
        "outputId": "ad2c258a-2c22-4001-aa5e-484663880948"
      },
      "execution_count": 10,
      "outputs": [
        {
          "output_type": "execute_result",
          "data": {
            "text/plain": [
              "0.9860820751064653"
            ]
          },
          "metadata": {},
          "execution_count": 10
        }
      ]
    },
    {
      "cell_type": "code",
      "source": [
        "grid_search.best_params_"
      ],
      "metadata": {
        "colab": {
          "base_uri": "https://localhost:8080/"
        },
        "id": "AgP_1Pua5P76",
        "outputId": "2e3de0b4-eb8b-4ab4-a258-59d0602b1cfa"
      },
      "execution_count": 11,
      "outputs": [
        {
          "output_type": "execute_result",
          "data": {
            "text/plain": [
              "{'n_neighbors': 1, 'weights': 'uniform'}"
            ]
          },
          "metadata": {},
          "execution_count": 11
        }
      ]
    },
    {
      "cell_type": "code",
      "source": [
        "knn_clf = grid_search.best_estimator_"
      ],
      "metadata": {
        "id": "f7K6OVWm5dmS"
      },
      "execution_count": 12,
      "outputs": []
    },
    {
      "cell_type": "code",
      "source": [
        "knn_clf.score(X_test, y_test)"
      ],
      "metadata": {
        "colab": {
          "base_uri": "https://localhost:8080/"
        },
        "id": "oDdIPNWH6Q8G",
        "outputId": "4fb2a1db-4d84-4b42-b2fc-af4bf08b6521"
      },
      "execution_count": 13,
      "outputs": [
        {
          "output_type": "execute_result",
          "data": {
            "text/plain": [
              "0.9833333333333333"
            ]
          },
          "metadata": {},
          "execution_count": 13
        }
      ]
    },
    {
      "cell_type": "code",
      "source": [
        "%%time\n",
        "grid_search = GridSearchCV(knn_clf, param_grid, n_jobs=-1, verbose=2)\n",
        "grid_search.fit(X_train, y_train)"
      ],
      "metadata": {
        "colab": {
          "base_uri": "https://localhost:8080/"
        },
        "id": "xJlZ8IfK6byn",
        "outputId": "0c54d385-00cd-435e-b6ca-227a1afdae95"
      },
      "execution_count": 14,
      "outputs": [
        {
          "output_type": "stream",
          "name": "stdout",
          "text": [
            "Fitting 5 folds for each of 60 candidates, totalling 300 fits\n",
            "CPU times: user 2.24 s, sys: 335 ms, total: 2.58 s\n",
            "Wall time: 2min 4s\n"
          ]
        }
      ]
    }
  ]
}