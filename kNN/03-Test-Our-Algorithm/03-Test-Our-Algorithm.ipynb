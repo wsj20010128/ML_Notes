{
  "nbformat": 4,
  "nbformat_minor": 0,
  "metadata": {
    "colab": {
      "name": "03-Test-Our-Algorithm.ipynb",
      "provenance": [],
      "collapsed_sections": [],
      "authorship_tag": "ABX9TyOX9nGo8TEPfXyW7mBFQeJG",
      "include_colab_link": true
    },
    "kernelspec": {
      "name": "python3",
      "display_name": "Python 3"
    },
    "language_info": {
      "name": "python"
    }
  },
  "cells": [
    {
      "cell_type": "markdown",
      "metadata": {
        "id": "view-in-github",
        "colab_type": "text"
      },
      "source": [
        "<a href=\"https://colab.research.google.com/github/wsj20010128/ML_Notes/blob/main/03-Test-Our-Algorithm/03-Test-Our-Algorithm.ipynb\" target=\"_parent\"><img src=\"https://colab.research.google.com/assets/colab-badge.svg\" alt=\"Open In Colab\"/></a>"
      ]
    },
    {
      "cell_type": "markdown",
      "source": [
        "# Test our algorithm"
      ],
      "metadata": {
        "id": "5HmvJ5ajGkKT"
      }
    },
    {
      "cell_type": "code",
      "execution_count": null,
      "metadata": {
        "id": "1didh2GaGYZW"
      },
      "outputs": [],
      "source": [
        "import numpy as np\n",
        "import matplotlib.pyplot as plt\n",
        "from sklearn import datasets"
      ]
    },
    {
      "cell_type": "code",
      "source": [
        "iris = datasets.load_iris()"
      ],
      "metadata": {
        "id": "ySCgeoZJGpWL"
      },
      "execution_count": null,
      "outputs": []
    },
    {
      "cell_type": "code",
      "source": [
        "X = iris.data\n",
        "y = iris.target"
      ],
      "metadata": {
        "id": "k9dmW7ftGtuV"
      },
      "execution_count": null,
      "outputs": []
    },
    {
      "cell_type": "markdown",
      "source": [
        "## train_test_split"
      ],
      "metadata": {
        "id": "mMMYS_HCG8mC"
      }
    },
    {
      "cell_type": "code",
      "source": [
        "shuffle_indexes = np.random.permutation(len(X))\n",
        "shuffle_indexes"
      ],
      "metadata": {
        "colab": {
          "base_uri": "https://localhost:8080/"
        },
        "id": "14dq0PpSHAJj",
        "outputId": "cc842969-2e2e-4d17-98c7-a09ec03e5d25"
      },
      "execution_count": null,
      "outputs": [
        {
          "output_type": "execute_result",
          "data": {
            "text/plain": [
              "array([118, 140, 142,  78,  76,  64, 132,  36, 104,  97,  63, 138,   0,\n",
              "        85,  83,  20,  40,  26,  74, 144,  94,  51, 124, 125,  98,  52,\n",
              "        38,  18,  88, 111,  59, 116, 137,  50,  46, 143, 100,  93,  55,\n",
              "       115,  92,  69,   1,  57, 106,  96,  49,  43,  66,  37,  27, 141,\n",
              "       129,   4, 146, 102, 123,  84,  45, 139,  86,   2,  53,  68, 108,\n",
              "       128, 131, 121,  95, 136,  25,   6,  73,  10,  14,  12,  42,  21,\n",
              "        28,  39,  62,  90,  81,   7, 148, 126,  79,   9, 134, 147, 117,\n",
              "        61, 105,  47,  23,  60,  13,  48,  80,  16, 149,  58,  82,  99,\n",
              "         8, 107,  65,  24,  70,  54,  35,  19,  72, 119,  44, 114, 122,\n",
              "        22,  15,  31,  41,  33,  11,  34,  30,  29, 135,  75,  71, 130,\n",
              "       133,  91, 109, 113, 101, 110,   5,  32, 120,  89,  17,   3,  87,\n",
              "        56,  77, 103, 145, 112,  67, 127])"
            ]
          },
          "metadata": {},
          "execution_count": 4
        }
      ]
    },
    {
      "cell_type": "code",
      "source": [
        "test_ratio = 0.2\n",
        "test_size = int(len(X) * test_ratio)\n",
        "test_size"
      ],
      "metadata": {
        "colab": {
          "base_uri": "https://localhost:8080/"
        },
        "id": "aFn6cD62Hvg1",
        "outputId": "170bb5c3-42da-423c-ff50-9c1aa1f13853"
      },
      "execution_count": null,
      "outputs": [
        {
          "output_type": "execute_result",
          "data": {
            "text/plain": [
              "30"
            ]
          },
          "metadata": {},
          "execution_count": 5
        }
      ]
    },
    {
      "cell_type": "code",
      "source": [
        "test_indexes = shuffle_indexes[:test_size]\n",
        "train_indexes = shuffle_indexes[test_size:]"
      ],
      "metadata": {
        "id": "0owblKWfIMBM"
      },
      "execution_count": null,
      "outputs": []
    },
    {
      "cell_type": "code",
      "source": [
        "X_train = X[train_indexes]\n",
        "y_train = y[train_indexes]\n",
        "\n",
        "X_test = X[test_indexes]\n",
        "y_test = y[test_indexes]"
      ],
      "metadata": {
        "id": "jvyaMO-hIZ-z"
      },
      "execution_count": null,
      "outputs": []
    },
    {
      "cell_type": "code",
      "source": [
        "print(X_train.shape)\n",
        "print(y_train.shape)"
      ],
      "metadata": {
        "colab": {
          "base_uri": "https://localhost:8080/"
        },
        "id": "vER0wQcdIyGQ",
        "outputId": "98f3620f-9b28-45ea-ca3b-92759f266db1"
      },
      "execution_count": null,
      "outputs": [
        {
          "output_type": "stream",
          "name": "stdout",
          "text": [
            "(120, 4)\n",
            "(120,)\n"
          ]
        }
      ]
    },
    {
      "cell_type": "code",
      "source": [
        "print(X_test.shape)\n",
        "print(y_test.shape)"
      ],
      "metadata": {
        "colab": {
          "base_uri": "https://localhost:8080/"
        },
        "id": "1q6EzVbNI3Ts",
        "outputId": "bff40081-1a0d-4211-8a9c-e7b0ffba08e2"
      },
      "execution_count": null,
      "outputs": [
        {
          "output_type": "stream",
          "name": "stdout",
          "text": [
            "(30, 4)\n",
            "(30,)\n"
          ]
        }
      ]
    },
    {
      "cell_type": "markdown",
      "source": [
        "## Test our algorithm"
      ],
      "metadata": {
        "id": "-hm26Ym_K8MG"
      }
    },
    {
      "cell_type": "code",
      "source": [
        "from playML.model_selection import train_test_split"
      ],
      "metadata": {
        "id": "wsXQ9P6oNiBc"
      },
      "execution_count": null,
      "outputs": []
    },
    {
      "cell_type": "code",
      "source": [
        "X_train, X_test, y_train, y_test = train_test_split(X, y)"
      ],
      "metadata": {
        "id": "7oECzEiYNmO9"
      },
      "execution_count": null,
      "outputs": []
    },
    {
      "cell_type": "code",
      "source": [
        "print(X_train.shape)\n",
        "print(y_train.shape)"
      ],
      "metadata": {
        "colab": {
          "base_uri": "https://localhost:8080/"
        },
        "id": "jwBaAZZDNvyY",
        "outputId": "4de34068-b489-4cc4-a4c1-893895472184"
      },
      "execution_count": null,
      "outputs": [
        {
          "output_type": "stream",
          "name": "stdout",
          "text": [
            "(120, 4)\n",
            "(120,)\n"
          ]
        }
      ]
    },
    {
      "cell_type": "code",
      "source": [
        "print(X_test.shape)\n",
        "print(y_test.shape)"
      ],
      "metadata": {
        "colab": {
          "base_uri": "https://localhost:8080/"
        },
        "id": "MPyZS3f1NwZm",
        "outputId": "73497402-609d-4f53-b5b3-327dadb9fbb9"
      },
      "execution_count": null,
      "outputs": [
        {
          "output_type": "stream",
          "name": "stdout",
          "text": [
            "(30, 4)\n",
            "(30,)\n"
          ]
        }
      ]
    },
    {
      "cell_type": "code",
      "source": [
        "from playML.kNN import KNNClassifier"
      ],
      "metadata": {
        "id": "nAvQXX6POSkB"
      },
      "execution_count": null,
      "outputs": []
    },
    {
      "cell_type": "code",
      "source": [
        "my_knn_clf = KNNClassifier(k=3)"
      ],
      "metadata": {
        "id": "Xqh0B5USOh5a"
      },
      "execution_count": null,
      "outputs": []
    },
    {
      "cell_type": "code",
      "source": [
        "my_knn_clf.fit(X_train, y_train)"
      ],
      "metadata": {
        "colab": {
          "base_uri": "https://localhost:8080/"
        },
        "id": "MWn4GP3SOps-",
        "outputId": "7412266e-dd95-4917-d6b5-943bc06314c0"
      },
      "execution_count": null,
      "outputs": [
        {
          "output_type": "execute_result",
          "data": {
            "text/plain": [
              "KNN(k=3)"
            ]
          },
          "metadata": {},
          "execution_count": 16
        }
      ]
    },
    {
      "cell_type": "code",
      "source": [
        "y_predict = my_knn_clf.predict(X_test)"
      ],
      "metadata": {
        "id": "D4srjEyIOtvO"
      },
      "execution_count": null,
      "outputs": []
    },
    {
      "cell_type": "code",
      "source": [
        "sum(y_predict==y_test)/len(y_test)"
      ],
      "metadata": {
        "colab": {
          "base_uri": "https://localhost:8080/"
        },
        "id": "k6uxHlAfPJbT",
        "outputId": "6b64f418-b174-4291-d953-51148a466ddd"
      },
      "execution_count": null,
      "outputs": [
        {
          "output_type": "execute_result",
          "data": {
            "text/plain": [
              "0.9"
            ]
          },
          "metadata": {},
          "execution_count": 18
        }
      ]
    },
    {
      "cell_type": "markdown",
      "source": [
        "## train_test_split in scikit-learn"
      ],
      "metadata": {
        "id": "fEJXZfnSP0kF"
      }
    },
    {
      "cell_type": "code",
      "source": [
        "from sklearn.model_selection import train_test_split"
      ],
      "metadata": {
        "id": "DBnxzkyuP4FY"
      },
      "execution_count": null,
      "outputs": []
    },
    {
      "cell_type": "code",
      "source": [
        "#                                test_ratio=0.2 random_seed=666\n",
        "X_train, X_test, y_train, y_test = train_test_split(X, y, test_size=0.2, random_state=666)"
      ],
      "metadata": {
        "id": "ajbjKhzTP9zA"
      },
      "execution_count": null,
      "outputs": []
    },
    {
      "cell_type": "code",
      "source": [
        "print(X_train.shape)\n",
        "print(y_train.shape)"
      ],
      "metadata": {
        "colab": {
          "base_uri": "https://localhost:8080/"
        },
        "id": "PM6ttVVdQGIw",
        "outputId": "802ad728-1fde-4109-f0eb-92a088d54488"
      },
      "execution_count": null,
      "outputs": [
        {
          "output_type": "stream",
          "name": "stdout",
          "text": [
            "(120, 4)\n",
            "(120,)\n"
          ]
        }
      ]
    },
    {
      "cell_type": "code",
      "source": [
        "print(X_test.shape)\n",
        "print(y_test.shape)"
      ],
      "metadata": {
        "colab": {
          "base_uri": "https://localhost:8080/"
        },
        "id": "By1810ENQI58",
        "outputId": "567b2305-1dbf-4ae2-9b2b-7d97baaf739c"
      },
      "execution_count": null,
      "outputs": [
        {
          "output_type": "stream",
          "name": "stdout",
          "text": [
            "(30, 4)\n",
            "(30,)\n"
          ]
        }
      ]
    },
    {
      "cell_type": "code",
      "source": [
        "from sklearn.neighbors import KNeighborsClassifier"
      ],
      "metadata": {
        "id": "fiMsk2RAQzq1"
      },
      "execution_count": null,
      "outputs": []
    },
    {
      "cell_type": "code",
      "source": [
        "kNN_classifier = KNeighborsClassifier(n_neighbors=3)"
      ],
      "metadata": {
        "id": "25fsfnHTRB5L"
      },
      "execution_count": null,
      "outputs": []
    },
    {
      "cell_type": "code",
      "source": [
        "kNN_classifier.fit(X_train, y_train)"
      ],
      "metadata": {
        "colab": {
          "base_uri": "https://localhost:8080/"
        },
        "id": "nEivrvUeRT8V",
        "outputId": "e0ce6cbf-e2c8-47dc-8856-dcd9a00158ae"
      },
      "execution_count": null,
      "outputs": [
        {
          "output_type": "execute_result",
          "data": {
            "text/plain": [
              "KNeighborsClassifier(n_neighbors=3)"
            ]
          },
          "metadata": {},
          "execution_count": 25
        }
      ]
    },
    {
      "cell_type": "code",
      "source": [
        "predict_y = kNN_classifier.predict(X_test)"
      ],
      "metadata": {
        "id": "Qc9Hw1fpRXaC"
      },
      "execution_count": null,
      "outputs": []
    },
    {
      "cell_type": "code",
      "source": [
        "sum(predict_y==y_test) / len(y_test)"
      ],
      "metadata": {
        "colab": {
          "base_uri": "https://localhost:8080/"
        },
        "id": "RsjfhG3KRdvN",
        "outputId": "fd902ce9-43aa-4110-a6e2-ddfa37fc4345"
      },
      "execution_count": null,
      "outputs": [
        {
          "output_type": "execute_result",
          "data": {
            "text/plain": [
              "1.0"
            ]
          },
          "metadata": {},
          "execution_count": 27
        }
      ]
    }
  ]
}